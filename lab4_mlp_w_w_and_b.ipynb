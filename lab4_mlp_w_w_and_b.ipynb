{
  "cells": [
    {
      "cell_type": "markdown",
      "metadata": {
        "id": "view-in-github",
        "colab_type": "text"
      },
      "source": [
        "<a href=\"https://colab.research.google.com/github/vlassner/dsml4220_lab4/blob/main/lab4_mlp_w_w_and_b.ipynb\" target=\"_parent\"><img src=\"https://colab.research.google.com/assets/colab-badge.svg\" alt=\"Open In Colab\"/></a>"
      ]
    },
    {
      "cell_type": "markdown",
      "metadata": {
        "id": "mq2GeW06urDE"
      },
      "source": [
        "# Lab 4: Experimenting with a Multi-layer Perceptron (with W&B)\n",
        "\n",
        "[![Open In Colab](https://colab.research.google.com/assets/colab-badge.svg)](https://colab.research.google.com/github/sgeinitz/DSML4220/blob/main/lab4_mlp_w_w_and_b.ipynb)\n",
        "\n",
        "[![Kaggle](https://kaggle.com/static/images/open-in-kaggle.svg)](https://kaggle.com/kernels/welcome?src=https://github.com/sgeinitz/DSML4220/blob/main/lab4_mlp_w_w_and_b.ipynb)\n",
        "\n",
        "In this notebook we'll build go back to our MLP to classify the nationality of a surname (notebook [Misc 2](https://github.com/sgeinitz/DSML4220/blob/main/misc02_mlp_for_surnames.ipynb)), but this time we want to see how a neural network (with all of its various configuration) can be experimented on. By \"_experiment_\", we are not only talking about possible hyperparameter tuning (similar to ) but also other possible factors that could cause a neural networks performance to vary, such as type of optimizer (SGD, RMSProp, Adam, etc.), batch sizes, dropout rates, etc.\n",
        "\n",
        "Again, this was a fun dataset as it is very easy to understand. It consisted of 10k observations with:\n",
        "* y = nationality  \n",
        "* x = last name\n",
        "\n",
        "### Lab 4 Assignment/Task\n",
        "Similar to Lab 2, this lab does not have separate questions. It instead only asks you to change some of the various parameters/configurations/etc. that you want to experiment with, and then run the notebook so that the results appear on [https://wandb.ai](https://wandb.ai).\n",
        "\n",
        "Note that everything you need is in this notebook, but if you want to see more of what wandb can do, check out [their intro notebook](https://wandb.me/intro).\n",
        "\n",
        "As before, you'll submit the link to your completed notebook, and your notebook should have links to a wandb reports.\n",
        "\n",
        "__Note that at the bottom of this notebook there are a few cells that you need to complete. This notebook will not run until you do so.__\n",
        "\n",
        "\n",
        "********\n",
        "\n",
        "__Write a few sentences about which hyperparameter/configuration settings had the biggest impact on performance and how?__\n",
        "The hyperparameters/ configuration settings that had the biggest impact were the dropout rates, the learning rates and the rmsprop optimizer. For the learning rate, the values were too high. I believe smaller values <0.1 would have been better to test. The lower learning rates demonstrated better results than the ones using 0.1. The dropout rate on the other hand had very mixed results where it did good and bad with both the high and low rates. The rmsprop optimizer did the worst conisistly out of the three optimizers. While it did get the best parameters for one iteration at 59% for accuracy, the other two iterations had the worst accuracy validation at 25% and 30%.\n",
        "\n",
        "*******\n",
        "\n",
        "URL: https://wandb.ai/DSML4220/Lassner-mlp-Victoria/sweeps/cypxacle?nw=nwuservlassner\n"
      ]
    },
    {
      "cell_type": "markdown",
      "metadata": {
        "id": "xvOkuVJgurDG"
      },
      "source": [
        "## Imports"
      ]
    },
    {
      "cell_type": "code",
      "source": [],
      "metadata": {
        "id": "YRkyxkTA3j0n"
      },
      "execution_count": null,
      "outputs": []
    },
    {
      "cell_type": "code",
      "execution_count": 17,
      "metadata": {
        "id": "O4jd-V8LurDG"
      },
      "outputs": [],
      "source": [
        "from argparse import Namespace\n",
        "import json\n",
        "import os\n",
        "\n",
        "import numpy as np\n",
        "import pandas as pd\n",
        "\n",
        "import torch\n",
        "import torch.nn as nn\n",
        "import torch.nn.functional as F\n",
        "import torch.optim as optim\n",
        "from torch.utils.data import Dataset, DataLoader"
      ]
    },
    {
      "cell_type": "code",
      "execution_count": 18,
      "metadata": {
        "id": "xsZa-xtNurDH"
      },
      "outputs": [],
      "source": [
        "#!pip install wandb\n",
        "\n",
        "import wandb\n",
        "import random"
      ]
    },
    {
      "cell_type": "code",
      "execution_count": 19,
      "metadata": {
        "id": "fCiBYYsrurDH",
        "colab": {
          "base_uri": "https://localhost:8080/"
        },
        "outputId": "e125069c-9a0f-4ad4-dbbf-d660dceb458d"
      },
      "outputs": [
        {
          "output_type": "execute_result",
          "data": {
            "text/plain": [
              "True"
            ]
          },
          "metadata": {},
          "execution_count": 19
        }
      ],
      "source": [
        "wandb.login()\n",
        "# or\n",
        "#!wandb login"
      ]
    },
    {
      "cell_type": "code",
      "execution_count": 20,
      "metadata": {
        "id": "Z89ls3_OurDI"
      },
      "outputs": [],
      "source": [
        "sweep_config = {\n",
        "    'method': 'random' # or 'grid' or 'bayes'\n",
        "}"
      ]
    },
    {
      "cell_type": "code",
      "execution_count": 21,
      "metadata": {
        "id": "3OFEpnk1urDI"
      },
      "outputs": [],
      "source": [
        "metric = {\n",
        "    'name': 'loss',\n",
        "    'goal': 'minimize'\n",
        "}\n",
        "\n",
        "sweep_config['metric'] = metric"
      ]
    },
    {
      "cell_type": "markdown",
      "metadata": {
        "id": "C8C2UgOWurDJ"
      },
      "source": [
        "## Data Vectorization classes"
      ]
    },
    {
      "cell_type": "markdown",
      "metadata": {
        "id": "yIcDz57purDJ"
      },
      "source": [
        "### The Vocabulary"
      ]
    },
    {
      "cell_type": "code",
      "execution_count": 22,
      "metadata": {
        "code_folding": [],
        "id": "c9exPTeTurDJ"
      },
      "outputs": [],
      "source": [
        "class Vocabulary(object):\n",
        "    \"\"\"Class to process text and extract vocabulary for mapping\"\"\"\n",
        "\n",
        "    def __init__(self, token_to_idx=None, add_unk=True, unk_token=\"<UNK>\"):\n",
        "        \"\"\"\n",
        "        Args:\n",
        "            token_to_idx (dict): a pre-existing map of tokens to indices\n",
        "            add_unk (bool): a flag that indicates whether to add the UNK token\n",
        "            unk_token (str): the UNK token to add into the Vocabulary\n",
        "        \"\"\"\n",
        "\n",
        "        if token_to_idx is None:\n",
        "            token_to_idx = {}\n",
        "        self._token_to_idx = token_to_idx\n",
        "\n",
        "        self._idx_to_token = {idx: token\n",
        "                              for token, idx in self._token_to_idx.items()}\n",
        "\n",
        "        self._add_unk = add_unk\n",
        "        self._unk_token = unk_token\n",
        "\n",
        "        self.unk_index = -1\n",
        "        if add_unk:\n",
        "            self.unk_index = self.add_token(unk_token)\n",
        "\n",
        "\n",
        "    def to_serializable(self):\n",
        "        \"\"\" returns a dictionary that can be serialized \"\"\"\n",
        "        return {'token_to_idx': self._token_to_idx,\n",
        "                'add_unk': self._add_unk,\n",
        "                'unk_token': self._unk_token}\n",
        "\n",
        "    @classmethod\n",
        "    def from_serializable(cls, contents):\n",
        "        \"\"\" instantiates the Vocabulary from a serialized dictionary \"\"\"\n",
        "        return cls(**contents)\n",
        "\n",
        "    def add_token(self, token):\n",
        "        \"\"\"Update mapping dicts based on the token.\n",
        "\n",
        "        Args:\n",
        "            token (str): the item to add into the Vocabulary\n",
        "        Returns:\n",
        "            index (int): the integer corresponding to the token\n",
        "        \"\"\"\n",
        "        try:\n",
        "            index = self._token_to_idx[token]\n",
        "        except KeyError:\n",
        "            index = len(self._token_to_idx)\n",
        "            self._token_to_idx[token] = index\n",
        "            self._idx_to_token[index] = token\n",
        "        return index\n",
        "\n",
        "    def add_many(self, tokens):\n",
        "        \"\"\"Add a list of tokens into the Vocabulary\n",
        "\n",
        "        Args:\n",
        "            tokens (list): a list of string tokens\n",
        "        Returns:\n",
        "            indices (list): a list of indices corresponding to the tokens\n",
        "        \"\"\"\n",
        "        return [self.add_token(token) for token in tokens]\n",
        "\n",
        "    def lookup_token(self, token):\n",
        "        \"\"\"Retrieve the index associated with the token\n",
        "          or the UNK index if token isn't present.\n",
        "\n",
        "        Args:\n",
        "            token (str): the token to look up\n",
        "        Returns:\n",
        "            index (int): the index corresponding to the token\n",
        "        Notes:\n",
        "            `unk_index` needs to be >=0 (having been added into the Vocabulary)\n",
        "              for the UNK functionality\n",
        "        \"\"\"\n",
        "        if self.unk_index >= 0:\n",
        "            return self._token_to_idx.get(token, self.unk_index)\n",
        "        else:\n",
        "            return self._token_to_idx[token]\n",
        "\n",
        "    def lookup_index(self, index):\n",
        "        \"\"\"Return the token associated with the index\n",
        "\n",
        "        Args:\n",
        "            index (int): the index to look up\n",
        "        Returns:\n",
        "            token (str): the token corresponding to the index\n",
        "        Raises:\n",
        "            KeyError: if the index is not in the Vocabulary\n",
        "        \"\"\"\n",
        "        if index not in self._idx_to_token:\n",
        "            raise KeyError(\"the index (%d) is not in the Vocabulary\" % index)\n",
        "        return self._idx_to_token[index]\n",
        "\n",
        "    def __str__(self):\n",
        "        return \"<Vocabulary(size=%d)>\" % len(self)\n",
        "\n",
        "    def __len__(self):\n",
        "        return len(self._token_to_idx)"
      ]
    },
    {
      "cell_type": "markdown",
      "metadata": {
        "id": "5rFtVFXwurDK"
      },
      "source": [
        "### The Vectorizer"
      ]
    },
    {
      "cell_type": "code",
      "execution_count": 23,
      "metadata": {
        "id": "vfGgb7MiurDK"
      },
      "outputs": [],
      "source": [
        "class SurnameVectorizer(object):\n",
        "    \"\"\" The Vectorizer which coordinates the Vocabularies and puts them to use\"\"\"\n",
        "    def __init__(self, surname_vocab, nationality_vocab):\n",
        "        \"\"\"\n",
        "        Args:\n",
        "            surname_vocab (Vocabulary): maps characters to integers\n",
        "            nationality_vocab (Vocabulary): maps nationalities to integers\n",
        "        \"\"\"\n",
        "        self.surname_vocab = surname_vocab\n",
        "        self.nationality_vocab = nationality_vocab\n",
        "\n",
        "    def vectorize(self, surname):\n",
        "        \"\"\"\n",
        "        Args:\n",
        "            surname (str): the surname\n",
        "\n",
        "        Returns:\n",
        "            one_hot (np.ndarray): a collapsed one-hot encoding\n",
        "        \"\"\"\n",
        "        vocab = self.surname_vocab\n",
        "        one_hot = np.zeros(len(vocab), dtype=np.float32)\n",
        "        for token in surname:\n",
        "            one_hot[vocab.lookup_token(token)] = 1\n",
        "\n",
        "        return one_hot\n",
        "\n",
        "    @classmethod\n",
        "    def from_dataframe(cls, surname_df):\n",
        "        \"\"\"Instantiate the vectorizer from the dataset dataframe\n",
        "\n",
        "        Args:\n",
        "            surname_df (pandas.DataFrame): the surnames dataset\n",
        "        Returns:\n",
        "            an instance of the SurnameVectorizer\n",
        "        \"\"\"\n",
        "        surname_vocab = Vocabulary(unk_token=\"@\")\n",
        "        nationality_vocab = Vocabulary(add_unk=False)\n",
        "\n",
        "        for index, row in surname_df.iterrows():\n",
        "            for letter in row.surname:\n",
        "                surname_vocab.add_token(letter)\n",
        "            nationality_vocab.add_token(row.nationality)\n",
        "\n",
        "        return cls(surname_vocab, nationality_vocab)\n",
        "\n",
        "    @classmethod\n",
        "    def from_serializable(cls, contents):\n",
        "        surname_vocab = Vocabulary.from_serializable(contents['surname_vocab'])\n",
        "        nationality_vocab =  Vocabulary.from_serializable(contents['nationality_vocab'])\n",
        "        return cls(surname_vocab=surname_vocab, nationality_vocab=nationality_vocab)\n",
        "\n",
        "    def to_serializable(self):\n",
        "        return {'surname_vocab': self.surname_vocab.to_serializable(),\n",
        "                'nationality_vocab': self.nationality_vocab.to_serializable()}"
      ]
    },
    {
      "cell_type": "markdown",
      "metadata": {
        "id": "idVzXkuSurDK"
      },
      "source": [
        "### The Dataset"
      ]
    },
    {
      "cell_type": "code",
      "execution_count": 24,
      "metadata": {
        "id": "yqr2mq5jurDL"
      },
      "outputs": [],
      "source": [
        "class SurnameDataset(Dataset):\n",
        "    def __init__(self, surname_df, vectorizer):\n",
        "        \"\"\"\n",
        "        Args:\n",
        "            surname_df (pandas.DataFrame): the dataset\n",
        "            vectorizer (SurnameVectorizer): vectorizer instatiated from dataset\n",
        "        \"\"\"\n",
        "        self.surname_df = surname_df\n",
        "        self._vectorizer = vectorizer\n",
        "\n",
        "        self.train_df = self.surname_df[self.surname_df.split=='train']\n",
        "        self.train_size = len(self.train_df)\n",
        "\n",
        "        self.val_df = self.surname_df[self.surname_df.split=='val']\n",
        "        self.validation_size = len(self.val_df)\n",
        "\n",
        "        self.test_df = self.surname_df[self.surname_df.split=='test']\n",
        "        self.test_size = len(self.test_df)\n",
        "\n",
        "        self._lookup_dict = {'train': (self.train_df, self.train_size),\n",
        "                             'val': (self.val_df, self.validation_size),\n",
        "                             'test': (self.test_df, self.test_size)}\n",
        "\n",
        "        self.set_split('train')\n",
        "\n",
        "        # Class weights\n",
        "        class_counts = surname_df.nationality.value_counts().to_dict()\n",
        "        def sort_key(item):\n",
        "            return self._vectorizer.nationality_vocab.lookup_token(item[0])\n",
        "        sorted_counts = sorted(class_counts.items(), key=sort_key)\n",
        "        frequencies = [count for _, count in sorted_counts]\n",
        "        self.class_weights = 1.0 / torch.tensor(frequencies, dtype=torch.float32)\n",
        "\n",
        "    @classmethod\n",
        "    def load_dataset_and_make_vectorizer(cls, surname_csv):\n",
        "        \"\"\"Load dataset and make a new vectorizer from scratch\n",
        "\n",
        "        Args:\n",
        "            surname_csv (str): location of the dataset\n",
        "        Returns:\n",
        "            an instance of SurnameDataset\n",
        "        \"\"\"\n",
        "        surname_df = pd.read_csv(surname_csv)\n",
        "        train_surname_df = surname_df[surname_df.split=='train']\n",
        "        return cls(surname_df, SurnameVectorizer.from_dataframe(train_surname_df))\n",
        "\n",
        "    @classmethod\n",
        "    def load_dataset_and_load_vectorizer(cls, surname_csv, vectorizer_filepath):\n",
        "        \"\"\"Load dataset and the corresponding vectorizer.\n",
        "        Used in the case in the vectorizer has been cached for re-use\n",
        "\n",
        "        Args:\n",
        "            surname_csv (str): location of the dataset\n",
        "            vectorizer_filepath (str): location of the saved vectorizer\n",
        "        Returns:\n",
        "            an instance of SurnameDataset\n",
        "        \"\"\"\n",
        "        surname_df = pd.read_csv(surname_csv)\n",
        "        vectorizer = cls.load_vectorizer_only(vectorizer_filepath)\n",
        "        return cls(surname_df, vectorizer)\n",
        "\n",
        "    @staticmethod\n",
        "    def load_vectorizer_only(vectorizer_filepath):\n",
        "        \"\"\"a static method for loading the vectorizer from file\n",
        "\n",
        "        Args:\n",
        "            vectorizer_filepath (str): the location of the serialized vectorizer\n",
        "        Returns:\n",
        "            an instance of SurnameVectorizer\n",
        "        \"\"\"\n",
        "        with open(vectorizer_filepath) as fp:\n",
        "            return SurnameVectorizer.from_serializable(json.load(fp))\n",
        "\n",
        "    def save_vectorizer(self, vectorizer_filepath):\n",
        "        \"\"\"saves the vectorizer to disk using json\n",
        "\n",
        "        Args:\n",
        "            vectorizer_filepath (str): the location to save the vectorizer\n",
        "        \"\"\"\n",
        "        with open(vectorizer_filepath, \"w\") as fp:\n",
        "            json.dump(self._vectorizer.to_serializable(), fp)\n",
        "\n",
        "    def get_vectorizer(self):\n",
        "        \"\"\" returns the vectorizer \"\"\"\n",
        "        return self._vectorizer\n",
        "\n",
        "    def set_split(self, split=\"train\"):\n",
        "        \"\"\" selects the splits in the dataset using a column in the dataframe \"\"\"\n",
        "        self._target_split = split\n",
        "        self._target_df, self._target_size = self._lookup_dict[split]\n",
        "\n",
        "    def __len__(self):\n",
        "        return self._target_size\n",
        "\n",
        "    def __getitem__(self, index):\n",
        "        \"\"\"the primary entry point method for PyTorch datasets\n",
        "\n",
        "        Args:\n",
        "            index (int): the index to the data point\n",
        "        Returns:\n",
        "            a dictionary holding the data point's:\n",
        "                features (x_surname)\n",
        "                label (y_nationality)\n",
        "        \"\"\"\n",
        "        row = self._target_df.iloc[index]\n",
        "\n",
        "        surname_vector = \\\n",
        "            self._vectorizer.vectorize(row.surname)\n",
        "\n",
        "        nationality_index = \\\n",
        "            self._vectorizer.nationality_vocab.lookup_token(row.nationality)\n",
        "\n",
        "        return {'x_surname': surname_vector,\n",
        "                'y_nationality': nationality_index}\n",
        "\n",
        "    def get_num_batches(self, batch_size):\n",
        "        \"\"\"Given a batch size, return the number of batches in the dataset\n",
        "\n",
        "        Args:\n",
        "            batch_size (int)\n",
        "        Returns:\n",
        "            number of batches in the dataset\n",
        "        \"\"\"\n",
        "        return len(self) // batch_size\n",
        "\n",
        "\n",
        "def generate_batches(dataset, batch_size, shuffle=True,\n",
        "                     drop_last=True, device=\"cpu\"):\n",
        "    \"\"\"\n",
        "    A generator function which wraps the PyTorch DataLoader. It will\n",
        "      ensure each tensor is on the write device location.\n",
        "    \"\"\"\n",
        "    dataloader = DataLoader(dataset=dataset, batch_size=batch_size,\n",
        "                            shuffle=shuffle, drop_last=drop_last)\n",
        "\n",
        "    for data_dict in dataloader:\n",
        "        out_data_dict = {}\n",
        "        for name, tensor in data_dict.items():\n",
        "            out_data_dict[name] = data_dict[name].to(device)\n",
        "        yield out_data_dict"
      ]
    },
    {
      "cell_type": "markdown",
      "metadata": {
        "id": "0Dc8YIBPurDL"
      },
      "source": [
        "## The Model: SurnameClassifier"
      ]
    },
    {
      "cell_type": "code",
      "execution_count": 25,
      "metadata": {
        "id": "06b4UcHmurDM"
      },
      "outputs": [],
      "source": [
        "class SurnameClassifier(nn.Module):\n",
        "    \"\"\" A 2-layer Multilayer Perceptron for classifying surnames \"\"\"\n",
        "    def __init__(self, input_dim, hidden_dim, output_dim, dropout_rate=0.5):\n",
        "        \"\"\"\n",
        "        Args:\n",
        "            input_dim (int): the size of the input vectors\n",
        "            hidden_dim (int): the output size of the first Linear layer\n",
        "            output_dim (int): the output size of the second Linear layer\n",
        "        \"\"\"\n",
        "        super(SurnameClassifier, self).__init__()\n",
        "        self.fc1 = nn.Linear(input_dim, hidden_dim)\n",
        "        self.dropout = nn.Dropout(dropout_rate)\n",
        "        self.fc2 = nn.Linear(hidden_dim, output_dim)\n",
        "\n",
        "    def forward(self, x_in, dropout=False, apply_softmax=False):\n",
        "        \"\"\"The forward pass of the classifier\n",
        "\n",
        "        Args:\n",
        "            x_in (torch.Tensor): an input data tensor.\n",
        "                x_in.shape should be (batch, input_dim)\n",
        "            apply_softmax (bool): a flag for the softmax activation\n",
        "                should be false if used with the Cross Entropy losses\n",
        "        Returns:\n",
        "            the resulting tensor. tensor.shape should be (batch, output_dim)\n",
        "        \"\"\"\n",
        "        intermediate_vector = F.relu(self.fc1(x_in))\n",
        "        if dropout:\n",
        "            intermediate_vector = self.dropout(intermediate_vector)\n",
        "        prediction_vector = self.fc2(intermediate_vector)\n",
        "\n",
        "        if apply_softmax:\n",
        "            prediction_vector = F.softmax(prediction_vector, dim=1)\n",
        "\n",
        "        return prediction_vector"
      ]
    },
    {
      "cell_type": "markdown",
      "metadata": {
        "id": "ZJq3-sKwurDM"
      },
      "source": [
        "## Training Routine"
      ]
    },
    {
      "cell_type": "markdown",
      "metadata": {
        "id": "vV6aYCtIurDM"
      },
      "source": [
        "### Helper functions"
      ]
    },
    {
      "cell_type": "code",
      "execution_count": 26,
      "metadata": {
        "code_folding": [],
        "id": "5H4ghYnyurDM"
      },
      "outputs": [],
      "source": [
        "def make_train_state(args):\n",
        "    return {'stop_early': False,\n",
        "            'early_stopping_step': 0,\n",
        "            'early_stopping_best_val': 1e8,\n",
        "            #'learning_rate': args.learning_rate,\n",
        "            'epoch_index': 0,\n",
        "            'train_loss': [],\n",
        "            'train_acc': [],\n",
        "            'val_loss': [],\n",
        "            'val_acc': [],\n",
        "            'test_loss': -1,\n",
        "            'test_acc': -1,\n",
        "            'model_filename': args.model_state_file}\n",
        "\n",
        "def update_train_state(args, model, train_state):\n",
        "    \"\"\"Handle the training state updates.\n",
        "\n",
        "    Components:\n",
        "     - Early Stopping: Prevent overfitting.\n",
        "     - Model Checkpoint: Model is saved if the model is better\n",
        "\n",
        "    :param args: main arguments\n",
        "    :param model: model to train\n",
        "    :param train_state: a dictionary representing the training state values\n",
        "    :returns:\n",
        "        a new train_state\n",
        "    \"\"\"\n",
        "\n",
        "    # Save one model at least\n",
        "    if train_state['epoch_index'] == 0:\n",
        "        torch.save(model.state_dict(), train_state['model_filename'])\n",
        "        train_state['stop_early'] = False\n",
        "\n",
        "    # Save model if performance improved\n",
        "    elif train_state['epoch_index'] >= 1:\n",
        "        loss_tm1, loss_t = train_state['val_loss'][-2:]\n",
        "\n",
        "        # If loss worsened\n",
        "        if loss_t >= train_state['early_stopping_best_val']:\n",
        "            # Update step\n",
        "            train_state['early_stopping_step'] += 1\n",
        "        # Loss decreased\n",
        "        else:\n",
        "            # Save the best model\n",
        "            if loss_t < train_state['early_stopping_best_val']:\n",
        "                torch.save(model.state_dict(), train_state['model_filename'])\n",
        "\n",
        "            # Reset early stopping step\n",
        "            train_state['early_stopping_step'] = 0\n",
        "\n",
        "        # Stop early ?\n",
        "        train_state['stop_early'] = \\\n",
        "            train_state['early_stopping_step'] >= args.early_stopping_criteria\n",
        "\n",
        "    return train_state\n",
        "\n",
        "def compute_accuracy(y_pred, y_target):\n",
        "    _, y_pred_indices = y_pred.max(dim=1)\n",
        "    n_correct = torch.eq(y_pred_indices, y_target).sum().item()\n",
        "    return (n_correct, len(y_pred_indices))"
      ]
    },
    {
      "cell_type": "markdown",
      "metadata": {
        "id": "NsyRkXImurDN"
      },
      "source": [
        "Some general utiliites to set a random seed (everywhere a random number generator is used) and to deal with directory paths."
      ]
    },
    {
      "cell_type": "code",
      "execution_count": 27,
      "metadata": {
        "id": "SYgyEutNurDN"
      },
      "outputs": [],
      "source": [
        "def set_seed_everywhere(seed, cuda):\n",
        "    np.random.seed(seed)\n",
        "    torch.manual_seed(seed)\n",
        "    if cuda:\n",
        "        torch.cuda.manual_seed_all(seed)\n",
        "\n",
        "def handle_dirs(dirpath):\n",
        "    if not os.path.exists(dirpath):\n",
        "        os.makedirs(dirpath)"
      ]
    },
    {
      "cell_type": "markdown",
      "metadata": {
        "id": "yCKj4ITjurDN"
      },
      "source": [
        "### Settings and some prep work"
      ]
    },
    {
      "cell_type": "code",
      "execution_count": 28,
      "metadata": {
        "id": "S0SpC4D5urDN",
        "colab": {
          "base_uri": "https://localhost:8080/"
        },
        "outputId": "52f3a07b-6084-4730-d73f-2eec3025ec00"
      },
      "outputs": [
        {
          "output_type": "stream",
          "name": "stdout",
          "text": [
            "Expanded filepaths: \n",
            "\tdata/surname_mlp/vectorizer.json\n",
            "\tdata/surname_mlp/model.pth\n",
            "Using CUDA: False\n"
          ]
        }
      ],
      "source": [
        "args = Namespace(\n",
        "    # Data and path information\n",
        "    surname_csv='https://raw.githubusercontent.com/sgeinitz/DSML4220/main/data/surnames.csv',\n",
        "    vectorizer_file=\"vectorizer.json\",\n",
        "    model_state_file=\"model.pth\",\n",
        "    save_dir=\"data/surname_mlp\",\n",
        "    early_stopping_criteria=5,\n",
        "    seed=42,\n",
        "    # Model hyper parameters, these will all now be taken care of with the wandb sweep\n",
        "    # hidden_dim=300,\n",
        "    # Training  hyper parameters\n",
        "    # num_epochs=100,\n",
        "    # learning_rate=0.001,\n",
        "    # batch_size=64,\n",
        "    # Runtime options\n",
        "    cuda=True,\n",
        "    reload_from_files=False,\n",
        "    expand_filepaths_to_save_dir=True,\n",
        ")\n",
        "\n",
        "if args.expand_filepaths_to_save_dir:\n",
        "    args.vectorizer_file = os.path.join(args.save_dir,\n",
        "                                        args.vectorizer_file)\n",
        "\n",
        "    args.model_state_file = os.path.join(args.save_dir,\n",
        "                                         args.model_state_file)\n",
        "\n",
        "    print(\"Expanded filepaths: \")\n",
        "    print(\"\\t{}\".format(args.vectorizer_file))\n",
        "    print(\"\\t{}\".format(args.model_state_file))\n",
        "\n",
        "# Check CUDA\n",
        "if not torch.cuda.is_available():\n",
        "    args.cuda = False\n",
        "\n",
        "args.device = torch.device(\"cuda\" if args.cuda else \"cpu\")\n",
        "\n",
        "print(\"Using CUDA: {}\".format(args.cuda))\n",
        "\n",
        "\n",
        "# Set seed for reproducibility\n",
        "set_seed_everywhere(args.seed, args.cuda)\n",
        "\n",
        "# handle dirs\n",
        "handle_dirs(args.save_dir)"
      ]
    },
    {
      "cell_type": "markdown",
      "metadata": {
        "id": "8zGWqPOpurDN"
      },
      "source": [
        "### Initializations"
      ]
    },
    {
      "cell_type": "code",
      "execution_count": 29,
      "metadata": {
        "id": "lJxdz90hurDN",
        "colab": {
          "base_uri": "https://localhost:8080/"
        },
        "outputId": "dfe94c37-c738-4702-b179-e078ce763489"
      },
      "outputs": [
        {
          "output_type": "stream",
          "name": "stdout",
          "text": [
            "Creating fresh!\n"
          ]
        }
      ],
      "source": [
        "if args.reload_from_files:\n",
        "    # training from a checkpoint\n",
        "    print(\"Reloading!\")\n",
        "    dataset = SurnameDataset.load_dataset_and_load_vectorizer(args.surname_csv,\n",
        "                                                              args.vectorizer_file)\n",
        "else:\n",
        "    # create dataset and vectorizer\n",
        "    print(\"Creating fresh!\")\n",
        "    dataset = SurnameDataset.load_dataset_and_make_vectorizer(args.surname_csv)\n",
        "    dataset.save_vectorizer(args.vectorizer_file)\n",
        "\n",
        "vectorizer = dataset.get_vectorizer()"
      ]
    },
    {
      "cell_type": "code",
      "execution_count": 30,
      "metadata": {
        "id": "UVsRvYLlurDN"
      },
      "outputs": [],
      "source": [
        "\n",
        "def build_model(hidden_layer_size, dropout):\n",
        "    classifier = SurnameClassifier(input_dim=len(vectorizer.surname_vocab),\n",
        "                                   hidden_dim=hidden_layer_size,\n",
        "                                   output_dim=len(vectorizer.nationality_vocab),\n",
        "                                   dropout_rate=dropout)\n",
        "    return classifier.to(device)\n",
        "\n",
        "\n",
        "def build_optimizer(classifier, optimizer, learning_rate):\n",
        "    if optimizer == \"sgd\":\n",
        "        optimizer = optim.SGD(classifier.parameters(), lr=learning_rate, momentum=0.9)\n",
        "    elif optimizer == \"rmsprop\":\n",
        "        optimizer = optim.RMSprop(classifier.parameters(), lr=learning_rate)\n",
        "    elif optimizer == \"adam\":\n",
        "        optimizer = optim.Adam(classifier.parameters(), lr=learning_rate)\n",
        "    scheduler = optim.lr_scheduler.ReduceLROnPlateau(optimizer=optimizer, mode='min', factor=0.5, patience=1)\n",
        "    return {'opt': optimizer, 'scheduler': scheduler}\n",
        "\n",
        "\n",
        "def train_epoch(classifier, optimizer, scheduler, batch_size):\n",
        "    cumu_loss = 0\n",
        "    n_correct = 0\n",
        "    n_total = 0\n",
        "\n",
        "    # training batches\n",
        "    dataset.set_split('train')\n",
        "    batch_generator = generate_batches(dataset, batch_size, device=args.device)\n",
        "    classifier.train()\n",
        "    for batch_index, batch_dict in enumerate(batch_generator):\n",
        "\n",
        "        optimizer.zero_grad()\n",
        "\n",
        "        # forward step\n",
        "        y_pred = classifier(batch_dict['x_surname'])\n",
        "        loss = loss_func(y_pred, batch_dict['y_nationality'])\n",
        "        cumu_loss += loss.item()\n",
        "\n",
        "        # backward pass\n",
        "        loss.backward()\n",
        "        optimizer.step()\n",
        "\n",
        "        wandb.log({\"train batch loss\": loss.item()})\n",
        "        results = compute_accuracy(y_pred, batch_dict['y_nationality'])\n",
        "        n_correct += results[0]\n",
        "        n_total += results[1]\n",
        "    wandb.log({\"accuracy_train\": n_correct / n_total})\n",
        "\n",
        "    train_loss = cumu_loss / (len(dataset) / batch_size)\n",
        "    cumu_loss = 0\n",
        "    n_correct = 0\n",
        "    n_total = 0\n",
        "\n",
        "    # validation batches\n",
        "    dataset.set_split('val')\n",
        "    batch_generator = generate_batches(dataset, batch_size, device=args.device)\n",
        "    classifier.eval()\n",
        "    for batch_index, batch_dict in enumerate(batch_generator):\n",
        "\n",
        "        y_pred = classifier(batch_dict['x_surname'])\n",
        "\n",
        "        loss = loss_func(y_pred, batch_dict['y_nationality'])\n",
        "        cumu_loss += loss.item()\n",
        "\n",
        "        wandb.log({\"val batch loss\": loss.item()})\n",
        "        results = compute_accuracy(y_pred, batch_dict['y_nationality'])\n",
        "        n_correct += results[0]\n",
        "        n_total += results[1]\n",
        "    wandb.log({\"accuracy_val\": n_correct / n_total})\n",
        "\n",
        "\n",
        "    val_loss = cumu_loss / (len(dataset) / batch_size)\n",
        "    scheduler.step(val_loss)\n",
        "    return (train_loss, val_loss)"
      ]
    },
    {
      "cell_type": "markdown",
      "metadata": {
        "id": "SaedR-D6urDO"
      },
      "source": [
        "### Training loop\n",
        "\n",
        "Note that you need to fill in the `parameters_dict` with the different hyperparameter/configuration settings that you want to try."
      ]
    },
    {
      "cell_type": "code",
      "execution_count": 31,
      "metadata": {
        "id": "nd7zJWxNurDO"
      },
      "outputs": [],
      "source": [
        "loss_func = nn.CrossEntropyLoss(dataset.class_weights)\n",
        "\n",
        "parameters_dict = {\n",
        "    'optimizer': {\n",
        "        'values': ['adam', 'rmsprop', 'sgd']\n",
        "    },\n",
        "    'hidden_layer_size': {\n",
        "        'values': [50, 100, 200, 250]\n",
        "    },\n",
        "    'dropout': {\n",
        "          'values': [0.3, 0.1, 0.5, 0.6]\n",
        "    },\n",
        "    'batch_size': {\n",
        "          'values': [8, 15, 25, 50]\n",
        "    },\n",
        "    'learning_rate': {\n",
        "          'values': [0.001, 0.01, 0.1, 0.0001]\n",
        "    },\n",
        "\n",
        "    # try adding another parameter for random seed to see how much it affects results (relative to other hyperparameters)\n",
        "\n",
        "    'epochs': {    # notice that this does not vary (i.e. will not be swept), so it uses one fixed \"value\" (not \"values\")\n",
        "          'value': 100\n",
        "    },\n",
        "}\n",
        "\n",
        "sweep_config['parameters'] = parameters_dict\n",
        "\n",
        "device = torch.device(\"cuda\" if torch.cuda.is_available() else \"cpu\")\n",
        "\n",
        "def train(config=None):\n",
        "    # Initialize a new wandb run\n",
        "    with wandb.init(config=config):\n",
        "\n",
        "        # set ramdom seend using config.seed\n",
        "\n",
        "        # If called by wandb.agent, as below,\n",
        "        # this config will be set by Sweep Controller\n",
        "        config = wandb.config\n",
        "\n",
        "        train_state = make_train_state(args)\n",
        "\n",
        "        #loader = build_dataset(config.batch_size)\n",
        "        classifier = build_model(config.hidden_layer_size, config.dropout)\n",
        "        optimizer = build_optimizer(classifier, config.optimizer, config.learning_rate)\n",
        "\n",
        "        for epoch in range(config.epochs):\n",
        "\n",
        "            # train epoch\n",
        "            avg_loss = train_epoch(classifier, optimizer['opt'], optimizer['scheduler'], batch_size=config.batch_size)\n",
        "            wandb.log({\"train_loss\": avg_loss[0], \"val_loss\": avg_loss[1], \"epoch\": epoch})\n"
      ]
    },
    {
      "cell_type": "markdown",
      "metadata": {
        "id": "D96SQjX5urDO"
      },
      "source": [
        "You will need to add your name or a unique identifier to the `project` parameter below."
      ]
    },
    {
      "cell_type": "code",
      "execution_count": 34,
      "metadata": {
        "id": "YZZNlO1surDO",
        "colab": {
          "base_uri": "https://localhost:8080/",
          "height": 1000
        },
        "outputId": "ecc2b2fb-02a0-4f65-8199-2aa86d3599ee"
      },
      "outputs": [
        {
          "output_type": "stream",
          "name": "stdout",
          "text": [
            "Create sweep with ID: cypxacle\n",
            "Sweep URL: https://wandb.ai/DSML4220/Lassner-mlp-Victoria/sweeps/cypxacle\n"
          ]
        },
        {
          "output_type": "stream",
          "name": "stderr",
          "text": [
            "\u001b[34m\u001b[1mwandb\u001b[0m: Agent Starting Run: k0nk9bkt with config:\n",
            "\u001b[34m\u001b[1mwandb\u001b[0m: \tbatch_size: 15\n",
            "\u001b[34m\u001b[1mwandb\u001b[0m: \tdropout: 0.1\n",
            "\u001b[34m\u001b[1mwandb\u001b[0m: \tepochs: 100\n",
            "\u001b[34m\u001b[1mwandb\u001b[0m: \thidden_layer_size: 200\n",
            "\u001b[34m\u001b[1mwandb\u001b[0m: \tlearning_rate: 0.01\n",
            "\u001b[34m\u001b[1mwandb\u001b[0m: \toptimizer: adam\n",
            "\u001b[34m\u001b[1mwandb\u001b[0m: Using wandb-core as the SDK backend.  Please refer to https://wandb.me/wandb-core for more information.\n"
          ]
        },
        {
          "output_type": "display_data",
          "data": {
            "text/plain": [
              "<IPython.core.display.HTML object>"
            ],
            "text/html": [
              "Tracking run with wandb version 0.19.6"
            ]
          },
          "metadata": {}
        },
        {
          "output_type": "display_data",
          "data": {
            "text/plain": [
              "<IPython.core.display.HTML object>"
            ],
            "text/html": [
              "Run data is saved locally in <code>/content/wandb/run-20250225_201835-k0nk9bkt</code>"
            ]
          },
          "metadata": {}
        },
        {
          "output_type": "display_data",
          "data": {
            "text/plain": [
              "<IPython.core.display.HTML object>"
            ],
            "text/html": [
              "Syncing run <strong><a href='https://wandb.ai/DSML4220/Lassner-mlp-Victoria/runs/k0nk9bkt' target=\"_blank\">zany-sweep-1</a></strong> to <a href='https://wandb.ai/DSML4220/Lassner-mlp-Victoria' target=\"_blank\">Weights & Biases</a> (<a href='https://wandb.me/developer-guide' target=\"_blank\">docs</a>)<br>Sweep page: <a href='https://wandb.ai/DSML4220/Lassner-mlp-Victoria/sweeps/cypxacle' target=\"_blank\">https://wandb.ai/DSML4220/Lassner-mlp-Victoria/sweeps/cypxacle</a>"
            ]
          },
          "metadata": {}
        },
        {
          "output_type": "display_data",
          "data": {
            "text/plain": [
              "<IPython.core.display.HTML object>"
            ],
            "text/html": [
              " View project at <a href='https://wandb.ai/DSML4220/Lassner-mlp-Victoria' target=\"_blank\">https://wandb.ai/DSML4220/Lassner-mlp-Victoria</a>"
            ]
          },
          "metadata": {}
        },
        {
          "output_type": "display_data",
          "data": {
            "text/plain": [
              "<IPython.core.display.HTML object>"
            ],
            "text/html": [
              " View sweep at <a href='https://wandb.ai/DSML4220/Lassner-mlp-Victoria/sweeps/cypxacle' target=\"_blank\">https://wandb.ai/DSML4220/Lassner-mlp-Victoria/sweeps/cypxacle</a>"
            ]
          },
          "metadata": {}
        },
        {
          "output_type": "display_data",
          "data": {
            "text/plain": [
              "<IPython.core.display.HTML object>"
            ],
            "text/html": [
              " View run at <a href='https://wandb.ai/DSML4220/Lassner-mlp-Victoria/runs/k0nk9bkt' target=\"_blank\">https://wandb.ai/DSML4220/Lassner-mlp-Victoria/runs/k0nk9bkt</a>"
            ]
          },
          "metadata": {}
        },
        {
          "output_type": "display_data",
          "data": {
            "text/plain": [
              "<IPython.core.display.HTML object>"
            ],
            "text/html": []
          },
          "metadata": {}
        },
        {
          "output_type": "display_data",
          "data": {
            "text/plain": [
              "<IPython.core.display.HTML object>"
            ],
            "text/html": [
              "<br>    <style><br>        .wandb-row {<br>            display: flex;<br>            flex-direction: row;<br>            flex-wrap: wrap;<br>            justify-content: flex-start;<br>            width: 100%;<br>        }<br>        .wandb-col {<br>            display: flex;<br>            flex-direction: column;<br>            flex-basis: 100%;<br>            flex: 1;<br>            padding: 10px;<br>        }<br>    </style><br><div class=\"wandb-row\"><div class=\"wandb-col\"><h3>Run history:</h3><br/><table class=\"wandb\"><tr><td>accuracy_train</td><td>▁▂▄▇████████████████████████████████████</td></tr><tr><td>accuracy_val</td><td>▁▃▃▆▇███████████████████████████████████</td></tr><tr><td>epoch</td><td>▁▁▁▂▂▂▂▂▂▃▃▃▄▄▄▄▄▄▄▄▅▅▅▅▅▆▆▆▆▆▇▇▇▇▇▇████</td></tr><tr><td>train batch loss</td><td>█▆▆▄▃▃▂▂▃▁▂▂▁▁▂▂▁▂▂▁▂▂▁▁▃▄▃▂▂▁▂▂▂▂▁▁▂▂▁▂</td></tr><tr><td>train_loss</td><td>█▇▄▃▂▁▁▁▁▁▁▁▁▁▁▁▁▁▁▁▁▁▁▁▁▁▁▁▁▁▁▁▁▁▁▁▁▁▁▁</td></tr><tr><td>val batch loss</td><td>▂▄▁▄▆▇▂▅▁▅▁▃▂▂█▅▆▃▆▃▃▃▂▁▂▄▅▅▆▃▁▃▂▂▃▄▄▄▂▃</td></tr><tr><td>val_loss</td><td>▂▁▃▃▇▇▇▇▆▆▇█▆▆▇▆▇▇▇▆▇▇▆▆▆▇▇▆▇▇▇▇▆▇▆▆▆▇▇▆</td></tr></table><br/></div><div class=\"wandb-col\"><h3>Run summary:</h3><br/><table class=\"wandb\"><tr><td>accuracy_train</td><td>0.80456</td></tr><tr><td>accuracy_val</td><td>0.59205</td></tr><tr><td>epoch</td><td>99</td></tr><tr><td>train batch loss</td><td>0.22701</td></tr><tr><td>train_loss</td><td>0.3811</td></tr><tr><td>val batch loss</td><td>3.01688</td></tr><tr><td>val_loss</td><td>2.33974</td></tr></table><br/></div></div>"
            ]
          },
          "metadata": {}
        },
        {
          "output_type": "display_data",
          "data": {
            "text/plain": [
              "<IPython.core.display.HTML object>"
            ],
            "text/html": [
              " View run <strong style=\"color:#cdcd00\">zany-sweep-1</strong> at: <a href='https://wandb.ai/DSML4220/Lassner-mlp-Victoria/runs/k0nk9bkt' target=\"_blank\">https://wandb.ai/DSML4220/Lassner-mlp-Victoria/runs/k0nk9bkt</a><br> View project at: <a href='https://wandb.ai/DSML4220/Lassner-mlp-Victoria' target=\"_blank\">https://wandb.ai/DSML4220/Lassner-mlp-Victoria</a><br>Synced 5 W&B file(s), 0 media file(s), 0 artifact file(s) and 0 other file(s)"
            ]
          },
          "metadata": {}
        },
        {
          "output_type": "display_data",
          "data": {
            "text/plain": [
              "<IPython.core.display.HTML object>"
            ],
            "text/html": [
              "Find logs at: <code>./wandb/run-20250225_201835-k0nk9bkt/logs</code>"
            ]
          },
          "metadata": {}
        },
        {
          "output_type": "stream",
          "name": "stderr",
          "text": [
            "\u001b[34m\u001b[1mwandb\u001b[0m: Agent Starting Run: 1f4xgrf3 with config:\n",
            "\u001b[34m\u001b[1mwandb\u001b[0m: \tbatch_size: 8\n",
            "\u001b[34m\u001b[1mwandb\u001b[0m: \tdropout: 0.3\n",
            "\u001b[34m\u001b[1mwandb\u001b[0m: \tepochs: 100\n",
            "\u001b[34m\u001b[1mwandb\u001b[0m: \thidden_layer_size: 250\n",
            "\u001b[34m\u001b[1mwandb\u001b[0m: \tlearning_rate: 0.1\n",
            "\u001b[34m\u001b[1mwandb\u001b[0m: \toptimizer: sgd\n"
          ]
        },
        {
          "output_type": "display_data",
          "data": {
            "text/plain": [
              "<IPython.core.display.HTML object>"
            ],
            "text/html": [
              "Tracking run with wandb version 0.19.6"
            ]
          },
          "metadata": {}
        },
        {
          "output_type": "display_data",
          "data": {
            "text/plain": [
              "<IPython.core.display.HTML object>"
            ],
            "text/html": [
              "Run data is saved locally in <code>/content/wandb/run-20250225_202102-1f4xgrf3</code>"
            ]
          },
          "metadata": {}
        },
        {
          "output_type": "display_data",
          "data": {
            "text/plain": [
              "<IPython.core.display.HTML object>"
            ],
            "text/html": [
              "Syncing run <strong><a href='https://wandb.ai/DSML4220/Lassner-mlp-Victoria/runs/1f4xgrf3' target=\"_blank\">elated-sweep-2</a></strong> to <a href='https://wandb.ai/DSML4220/Lassner-mlp-Victoria' target=\"_blank\">Weights & Biases</a> (<a href='https://wandb.me/developer-guide' target=\"_blank\">docs</a>)<br>Sweep page: <a href='https://wandb.ai/DSML4220/Lassner-mlp-Victoria/sweeps/cypxacle' target=\"_blank\">https://wandb.ai/DSML4220/Lassner-mlp-Victoria/sweeps/cypxacle</a>"
            ]
          },
          "metadata": {}
        },
        {
          "output_type": "display_data",
          "data": {
            "text/plain": [
              "<IPython.core.display.HTML object>"
            ],
            "text/html": [
              " View project at <a href='https://wandb.ai/DSML4220/Lassner-mlp-Victoria' target=\"_blank\">https://wandb.ai/DSML4220/Lassner-mlp-Victoria</a>"
            ]
          },
          "metadata": {}
        },
        {
          "output_type": "display_data",
          "data": {
            "text/plain": [
              "<IPython.core.display.HTML object>"
            ],
            "text/html": [
              " View sweep at <a href='https://wandb.ai/DSML4220/Lassner-mlp-Victoria/sweeps/cypxacle' target=\"_blank\">https://wandb.ai/DSML4220/Lassner-mlp-Victoria/sweeps/cypxacle</a>"
            ]
          },
          "metadata": {}
        },
        {
          "output_type": "display_data",
          "data": {
            "text/plain": [
              "<IPython.core.display.HTML object>"
            ],
            "text/html": [
              " View run at <a href='https://wandb.ai/DSML4220/Lassner-mlp-Victoria/runs/1f4xgrf3' target=\"_blank\">https://wandb.ai/DSML4220/Lassner-mlp-Victoria/runs/1f4xgrf3</a>"
            ]
          },
          "metadata": {}
        },
        {
          "output_type": "display_data",
          "data": {
            "text/plain": [
              "<IPython.core.display.HTML object>"
            ],
            "text/html": []
          },
          "metadata": {}
        },
        {
          "output_type": "display_data",
          "data": {
            "text/plain": [
              "<IPython.core.display.HTML object>"
            ],
            "text/html": [
              "<br>    <style><br>        .wandb-row {<br>            display: flex;<br>            flex-direction: row;<br>            flex-wrap: wrap;<br>            justify-content: flex-start;<br>            width: 100%;<br>        }<br>        .wandb-col {<br>            display: flex;<br>            flex-direction: column;<br>            flex-basis: 100%;<br>            flex: 1;<br>            padding: 10px;<br>        }<br>    </style><br><div class=\"wandb-row\"><div class=\"wandb-col\"><h3>Run history:</h3><br/><table class=\"wandb\"><tr><td>accuracy_train</td><td>▁▁▁▁▁▄▄▅▆▇██████████████████████████████</td></tr><tr><td>accuracy_val</td><td>▁▂▂▁▅▇▇█████████████████████████████████</td></tr><tr><td>epoch</td><td>▁▁▁▁▂▂▂▃▃▃▃▃▃▃▄▄▄▄▄▄▅▅▅▅▅▅▅▆▆▆▆▇▇▇▇▇▇███</td></tr><tr><td>train batch loss</td><td>▇▆▇█▂▂▄▂▄▄▃▅▁▅▄▂▃▅▅▃▆▅▅▁▃▄▆▃▃▂▅▄▅▃█▂▃▂▂▂</td></tr><tr><td>train_loss</td><td>███▆▅▂▂▂▁▁▁▁▁▁▁▁▁▁▁▁▁▁▁▁▁▁▁▁▁▁▁▁▁▁▁▁▁▁▁▁</td></tr><tr><td>val batch loss</td><td>▂▂▃▃▂▂▂▂▂▃▂▂▂▂▂▂▃▁▅▄▂▃▃▅▂▂▁▄▂▂█▂▂▃▂▃▄▂▄▅</td></tr><tr><td>val_loss</td><td>█▆▇▇▂▄▃▁▂▁▁▂▁▂▁▁▂▁▂▂▂▂▂▂▁▁▂▁▁▁▁▂▁▁▂▁▁▁▁▂</td></tr></table><br/></div><div class=\"wandb-col\"><h3>Run summary:</h3><br/><table class=\"wandb\"><tr><td>accuracy_train</td><td>0.58424</td></tr><tr><td>accuracy_val</td><td>0.50244</td></tr><tr><td>epoch</td><td>99</td></tr><tr><td>train batch loss</td><td>1.10244</td></tr><tr><td>train_loss</td><td>1.16754</td></tr><tr><td>val batch loss</td><td>0.6667</td></tr><tr><td>val_loss</td><td>2.20591</td></tr></table><br/></div></div>"
            ]
          },
          "metadata": {}
        },
        {
          "output_type": "display_data",
          "data": {
            "text/plain": [
              "<IPython.core.display.HTML object>"
            ],
            "text/html": [
              " View run <strong style=\"color:#cdcd00\">elated-sweep-2</strong> at: <a href='https://wandb.ai/DSML4220/Lassner-mlp-Victoria/runs/1f4xgrf3' target=\"_blank\">https://wandb.ai/DSML4220/Lassner-mlp-Victoria/runs/1f4xgrf3</a><br> View project at: <a href='https://wandb.ai/DSML4220/Lassner-mlp-Victoria' target=\"_blank\">https://wandb.ai/DSML4220/Lassner-mlp-Victoria</a><br>Synced 5 W&B file(s), 0 media file(s), 0 artifact file(s) and 0 other file(s)"
            ]
          },
          "metadata": {}
        },
        {
          "output_type": "display_data",
          "data": {
            "text/plain": [
              "<IPython.core.display.HTML object>"
            ],
            "text/html": [
              "Find logs at: <code>./wandb/run-20250225_202102-1f4xgrf3/logs</code>"
            ]
          },
          "metadata": {}
        },
        {
          "output_type": "stream",
          "name": "stderr",
          "text": [
            "\u001b[34m\u001b[1mwandb\u001b[0m: Agent Starting Run: 0918oc12 with config:\n",
            "\u001b[34m\u001b[1mwandb\u001b[0m: \tbatch_size: 8\n",
            "\u001b[34m\u001b[1mwandb\u001b[0m: \tdropout: 0.5\n",
            "\u001b[34m\u001b[1mwandb\u001b[0m: \tepochs: 100\n",
            "\u001b[34m\u001b[1mwandb\u001b[0m: \thidden_layer_size: 200\n",
            "\u001b[34m\u001b[1mwandb\u001b[0m: \tlearning_rate: 0.01\n",
            "\u001b[34m\u001b[1mwandb\u001b[0m: \toptimizer: rmsprop\n"
          ]
        },
        {
          "output_type": "display_data",
          "data": {
            "text/plain": [
              "<IPython.core.display.HTML object>"
            ],
            "text/html": [
              "Tracking run with wandb version 0.19.6"
            ]
          },
          "metadata": {}
        },
        {
          "output_type": "display_data",
          "data": {
            "text/plain": [
              "<IPython.core.display.HTML object>"
            ],
            "text/html": [
              "Run data is saved locally in <code>/content/wandb/run-20250225_202404-0918oc12</code>"
            ]
          },
          "metadata": {}
        },
        {
          "output_type": "display_data",
          "data": {
            "text/plain": [
              "<IPython.core.display.HTML object>"
            ],
            "text/html": [
              "Syncing run <strong><a href='https://wandb.ai/DSML4220/Lassner-mlp-Victoria/runs/0918oc12' target=\"_blank\">laced-sweep-3</a></strong> to <a href='https://wandb.ai/DSML4220/Lassner-mlp-Victoria' target=\"_blank\">Weights & Biases</a> (<a href='https://wandb.me/developer-guide' target=\"_blank\">docs</a>)<br>Sweep page: <a href='https://wandb.ai/DSML4220/Lassner-mlp-Victoria/sweeps/cypxacle' target=\"_blank\">https://wandb.ai/DSML4220/Lassner-mlp-Victoria/sweeps/cypxacle</a>"
            ]
          },
          "metadata": {}
        },
        {
          "output_type": "display_data",
          "data": {
            "text/plain": [
              "<IPython.core.display.HTML object>"
            ],
            "text/html": [
              " View project at <a href='https://wandb.ai/DSML4220/Lassner-mlp-Victoria' target=\"_blank\">https://wandb.ai/DSML4220/Lassner-mlp-Victoria</a>"
            ]
          },
          "metadata": {}
        },
        {
          "output_type": "display_data",
          "data": {
            "text/plain": [
              "<IPython.core.display.HTML object>"
            ],
            "text/html": [
              " View sweep at <a href='https://wandb.ai/DSML4220/Lassner-mlp-Victoria/sweeps/cypxacle' target=\"_blank\">https://wandb.ai/DSML4220/Lassner-mlp-Victoria/sweeps/cypxacle</a>"
            ]
          },
          "metadata": {}
        },
        {
          "output_type": "display_data",
          "data": {
            "text/plain": [
              "<IPython.core.display.HTML object>"
            ],
            "text/html": [
              " View run at <a href='https://wandb.ai/DSML4220/Lassner-mlp-Victoria/runs/0918oc12' target=\"_blank\">https://wandb.ai/DSML4220/Lassner-mlp-Victoria/runs/0918oc12</a>"
            ]
          },
          "metadata": {}
        },
        {
          "output_type": "display_data",
          "data": {
            "text/plain": [
              "<IPython.core.display.HTML object>"
            ],
            "text/html": []
          },
          "metadata": {}
        },
        {
          "output_type": "display_data",
          "data": {
            "text/plain": [
              "<IPython.core.display.HTML object>"
            ],
            "text/html": [
              "<br>    <style><br>        .wandb-row {<br>            display: flex;<br>            flex-direction: row;<br>            flex-wrap: wrap;<br>            justify-content: flex-start;<br>            width: 100%;<br>        }<br>        .wandb-col {<br>            display: flex;<br>            flex-direction: column;<br>            flex-basis: 100%;<br>            flex: 1;<br>            padding: 10px;<br>        }<br>    </style><br><div class=\"wandb-row\"><div class=\"wandb-col\"><h3>Run history:</h3><br/><table class=\"wandb\"><tr><td>accuracy_train</td><td>▁▂▃▆▇███████████████████████████████████</td></tr><tr><td>accuracy_val</td><td>▁▇▆▇████████████████████████████████████</td></tr><tr><td>epoch</td><td>▁▁▁▁▂▂▂▂▂▃▃▃▃▃▃▄▄▄▄▄▄▄▅▅▅▅▅▅▆▆▇▇▇▇▇█████</td></tr><tr><td>train batch loss</td><td>█▅▆▆▅▃▁▂▂▄▃▅▄▃▁▅▃▄▁▄▁▂▃▄▂▃▂▂▃▂▃▂▄▂▂▆▃▂▅▅</td></tr><tr><td>train_loss</td><td>█▃▃▂▂▁▁▁▁▁▁▁▁▁▁▁▁▁▁▁▁▁▁▁▁▁▁▁▁▁▁▁▁▁▁▁▁▁▁▁</td></tr><tr><td>val batch loss</td><td>▃▃▃▃▃▃▅▁▂▃▃▃▂▂▁▃▂█▃▁▃▂▂▂▂▁▄▁▂▆▃▁▂▃▁▂▁▃▁▅</td></tr><tr><td>val_loss</td><td>▂▁▄▄▅▆▇▆▇▇▇▇▇█▆▆▆▇▇▇▆█▇▆▇▇▇▇▆▆▆▇▇▆▇▇█▇▇▇</td></tr></table><br/></div><div class=\"wandb-col\"><h3>Run summary:</h3><br/><table class=\"wandb\"><tr><td>accuracy_train</td><td>0.79961</td></tr><tr><td>accuracy_val</td><td>0.59939</td></tr><tr><td>epoch</td><td>99</td></tr><tr><td>train batch loss</td><td>0.09197</td></tr><tr><td>train_loss</td><td>0.49047</td></tr><tr><td>val batch loss</td><td>8.37583</td></tr><tr><td>val_loss</td><td>2.67762</td></tr></table><br/></div></div>"
            ]
          },
          "metadata": {}
        },
        {
          "output_type": "display_data",
          "data": {
            "text/plain": [
              "<IPython.core.display.HTML object>"
            ],
            "text/html": [
              " View run <strong style=\"color:#cdcd00\">laced-sweep-3</strong> at: <a href='https://wandb.ai/DSML4220/Lassner-mlp-Victoria/runs/0918oc12' target=\"_blank\">https://wandb.ai/DSML4220/Lassner-mlp-Victoria/runs/0918oc12</a><br> View project at: <a href='https://wandb.ai/DSML4220/Lassner-mlp-Victoria' target=\"_blank\">https://wandb.ai/DSML4220/Lassner-mlp-Victoria</a><br>Synced 5 W&B file(s), 0 media file(s), 0 artifact file(s) and 0 other file(s)"
            ]
          },
          "metadata": {}
        },
        {
          "output_type": "display_data",
          "data": {
            "text/plain": [
              "<IPython.core.display.HTML object>"
            ],
            "text/html": [
              "Find logs at: <code>./wandb/run-20250225_202404-0918oc12/logs</code>"
            ]
          },
          "metadata": {}
        },
        {
          "output_type": "stream",
          "name": "stderr",
          "text": [
            "\u001b[34m\u001b[1mwandb\u001b[0m: Agent Starting Run: naffhdhp with config:\n",
            "\u001b[34m\u001b[1mwandb\u001b[0m: \tbatch_size: 8\n",
            "\u001b[34m\u001b[1mwandb\u001b[0m: \tdropout: 0.5\n",
            "\u001b[34m\u001b[1mwandb\u001b[0m: \tepochs: 100\n",
            "\u001b[34m\u001b[1mwandb\u001b[0m: \thidden_layer_size: 250\n",
            "\u001b[34m\u001b[1mwandb\u001b[0m: \tlearning_rate: 0.0001\n",
            "\u001b[34m\u001b[1mwandb\u001b[0m: \toptimizer: adam\n"
          ]
        },
        {
          "output_type": "display_data",
          "data": {
            "text/plain": [
              "<IPython.core.display.HTML object>"
            ],
            "text/html": [
              "Tracking run with wandb version 0.19.6"
            ]
          },
          "metadata": {}
        },
        {
          "output_type": "display_data",
          "data": {
            "text/plain": [
              "<IPython.core.display.HTML object>"
            ],
            "text/html": [
              "Run data is saved locally in <code>/content/wandb/run-20250225_202732-naffhdhp</code>"
            ]
          },
          "metadata": {}
        },
        {
          "output_type": "display_data",
          "data": {
            "text/plain": [
              "<IPython.core.display.HTML object>"
            ],
            "text/html": [
              "Syncing run <strong><a href='https://wandb.ai/DSML4220/Lassner-mlp-Victoria/runs/naffhdhp' target=\"_blank\">royal-sweep-4</a></strong> to <a href='https://wandb.ai/DSML4220/Lassner-mlp-Victoria' target=\"_blank\">Weights & Biases</a> (<a href='https://wandb.me/developer-guide' target=\"_blank\">docs</a>)<br>Sweep page: <a href='https://wandb.ai/DSML4220/Lassner-mlp-Victoria/sweeps/cypxacle' target=\"_blank\">https://wandb.ai/DSML4220/Lassner-mlp-Victoria/sweeps/cypxacle</a>"
            ]
          },
          "metadata": {}
        },
        {
          "output_type": "display_data",
          "data": {
            "text/plain": [
              "<IPython.core.display.HTML object>"
            ],
            "text/html": [
              " View project at <a href='https://wandb.ai/DSML4220/Lassner-mlp-Victoria' target=\"_blank\">https://wandb.ai/DSML4220/Lassner-mlp-Victoria</a>"
            ]
          },
          "metadata": {}
        },
        {
          "output_type": "display_data",
          "data": {
            "text/plain": [
              "<IPython.core.display.HTML object>"
            ],
            "text/html": [
              " View sweep at <a href='https://wandb.ai/DSML4220/Lassner-mlp-Victoria/sweeps/cypxacle' target=\"_blank\">https://wandb.ai/DSML4220/Lassner-mlp-Victoria/sweeps/cypxacle</a>"
            ]
          },
          "metadata": {}
        },
        {
          "output_type": "display_data",
          "data": {
            "text/plain": [
              "<IPython.core.display.HTML object>"
            ],
            "text/html": [
              " View run at <a href='https://wandb.ai/DSML4220/Lassner-mlp-Victoria/runs/naffhdhp' target=\"_blank\">https://wandb.ai/DSML4220/Lassner-mlp-Victoria/runs/naffhdhp</a>"
            ]
          },
          "metadata": {}
        },
        {
          "output_type": "display_data",
          "data": {
            "text/plain": [
              "<IPython.core.display.HTML object>"
            ],
            "text/html": []
          },
          "metadata": {}
        },
        {
          "output_type": "display_data",
          "data": {
            "text/plain": [
              "<IPython.core.display.HTML object>"
            ],
            "text/html": [
              "<br>    <style><br>        .wandb-row {<br>            display: flex;<br>            flex-direction: row;<br>            flex-wrap: wrap;<br>            justify-content: flex-start;<br>            width: 100%;<br>        }<br>        .wandb-col {<br>            display: flex;<br>            flex-direction: column;<br>            flex-basis: 100%;<br>            flex: 1;<br>            padding: 10px;<br>        }<br>    </style><br><div class=\"wandb-row\"><div class=\"wandb-col\"><h3>Run history:</h3><br/><table class=\"wandb\"><tr><td>accuracy_train</td><td>▁▅▅▆▅▆▆▆▇▇▇█████████████████████████████</td></tr><tr><td>accuracy_val</td><td>▁▇▇▆▇█▆▇████████████████████████████████</td></tr><tr><td>epoch</td><td>▁▁▁▁▁▂▂▂▂▃▃▃▄▄▄▄▄▄▄▅▅▅▅▅▅▅▆▆▆▆▆▇▇▇▇▇████</td></tr><tr><td>train batch loss</td><td>▆▃▅▃▅▆▄▆▆▂▁▂▃█▁▄▅▃▄▄▃▁▁▃▅▄▅▇▅▁▂▃▅▅▁▄▄▅▃▅</td></tr><tr><td>train_loss</td><td>█▇▆▄▃▃▂▂▂▁▁▁▁▁▁▁▁▁▁▁▁▁▁▁▁▁▁▁▁▁▁▁▁▁▁▁▁▁▁▁</td></tr><tr><td>val batch loss</td><td>██▆▅▅▃▄▅▄▄▂▇▅▄▃▃▂▅▆▃▅▄▃█▄▁▇▇▆▄▅▇▅▂▃▃▂▅▇▆</td></tr><tr><td>val_loss</td><td>█▇▆▅▄▂▂▂▁▁▁▁▂▁▁▁▁▁▁▁▁▁▁▁▁▁▁▁▁▁▁▁▁▁▁▁▁▁▁▁</td></tr></table><br/></div><div class=\"wandb-col\"><h3>Run summary:</h3><br/><table class=\"wandb\"><tr><td>accuracy_train</td><td>0.51693</td></tr><tr><td>accuracy_val</td><td>0.49085</td></tr><tr><td>epoch</td><td>99</td></tr><tr><td>train batch loss</td><td>2.11434</td></tr><tr><td>train_loss</td><td>1.53674</td></tr><tr><td>val batch loss</td><td>1.24227</td></tr><tr><td>val_loss</td><td>1.79311</td></tr></table><br/></div></div>"
            ]
          },
          "metadata": {}
        },
        {
          "output_type": "display_data",
          "data": {
            "text/plain": [
              "<IPython.core.display.HTML object>"
            ],
            "text/html": [
              " View run <strong style=\"color:#cdcd00\">royal-sweep-4</strong> at: <a href='https://wandb.ai/DSML4220/Lassner-mlp-Victoria/runs/naffhdhp' target=\"_blank\">https://wandb.ai/DSML4220/Lassner-mlp-Victoria/runs/naffhdhp</a><br> View project at: <a href='https://wandb.ai/DSML4220/Lassner-mlp-Victoria' target=\"_blank\">https://wandb.ai/DSML4220/Lassner-mlp-Victoria</a><br>Synced 5 W&B file(s), 0 media file(s), 0 artifact file(s) and 0 other file(s)"
            ]
          },
          "metadata": {}
        },
        {
          "output_type": "display_data",
          "data": {
            "text/plain": [
              "<IPython.core.display.HTML object>"
            ],
            "text/html": [
              "Find logs at: <code>./wandb/run-20250225_202732-naffhdhp/logs</code>"
            ]
          },
          "metadata": {}
        },
        {
          "output_type": "stream",
          "name": "stderr",
          "text": [
            "\u001b[34m\u001b[1mwandb\u001b[0m: Agent Starting Run: y8wzmtns with config:\n",
            "\u001b[34m\u001b[1mwandb\u001b[0m: \tbatch_size: 15\n",
            "\u001b[34m\u001b[1mwandb\u001b[0m: \tdropout: 0.6\n",
            "\u001b[34m\u001b[1mwandb\u001b[0m: \tepochs: 100\n",
            "\u001b[34m\u001b[1mwandb\u001b[0m: \thidden_layer_size: 100\n",
            "\u001b[34m\u001b[1mwandb\u001b[0m: \tlearning_rate: 0.01\n",
            "\u001b[34m\u001b[1mwandb\u001b[0m: \toptimizer: sgd\n"
          ]
        },
        {
          "output_type": "display_data",
          "data": {
            "text/plain": [
              "<IPython.core.display.HTML object>"
            ],
            "text/html": [
              "Tracking run with wandb version 0.19.6"
            ]
          },
          "metadata": {}
        },
        {
          "output_type": "display_data",
          "data": {
            "text/plain": [
              "<IPython.core.display.HTML object>"
            ],
            "text/html": [
              "Run data is saved locally in <code>/content/wandb/run-20250225_203059-y8wzmtns</code>"
            ]
          },
          "metadata": {}
        },
        {
          "output_type": "display_data",
          "data": {
            "text/plain": [
              "<IPython.core.display.HTML object>"
            ],
            "text/html": [
              "Syncing run <strong><a href='https://wandb.ai/DSML4220/Lassner-mlp-Victoria/runs/y8wzmtns' target=\"_blank\">comfy-sweep-5</a></strong> to <a href='https://wandb.ai/DSML4220/Lassner-mlp-Victoria' target=\"_blank\">Weights & Biases</a> (<a href='https://wandb.me/developer-guide' target=\"_blank\">docs</a>)<br>Sweep page: <a href='https://wandb.ai/DSML4220/Lassner-mlp-Victoria/sweeps/cypxacle' target=\"_blank\">https://wandb.ai/DSML4220/Lassner-mlp-Victoria/sweeps/cypxacle</a>"
            ]
          },
          "metadata": {}
        },
        {
          "output_type": "display_data",
          "data": {
            "text/plain": [
              "<IPython.core.display.HTML object>"
            ],
            "text/html": [
              " View project at <a href='https://wandb.ai/DSML4220/Lassner-mlp-Victoria' target=\"_blank\">https://wandb.ai/DSML4220/Lassner-mlp-Victoria</a>"
            ]
          },
          "metadata": {}
        },
        {
          "output_type": "display_data",
          "data": {
            "text/plain": [
              "<IPython.core.display.HTML object>"
            ],
            "text/html": [
              " View sweep at <a href='https://wandb.ai/DSML4220/Lassner-mlp-Victoria/sweeps/cypxacle' target=\"_blank\">https://wandb.ai/DSML4220/Lassner-mlp-Victoria/sweeps/cypxacle</a>"
            ]
          },
          "metadata": {}
        },
        {
          "output_type": "display_data",
          "data": {
            "text/plain": [
              "<IPython.core.display.HTML object>"
            ],
            "text/html": [
              " View run at <a href='https://wandb.ai/DSML4220/Lassner-mlp-Victoria/runs/y8wzmtns' target=\"_blank\">https://wandb.ai/DSML4220/Lassner-mlp-Victoria/runs/y8wzmtns</a>"
            ]
          },
          "metadata": {}
        },
        {
          "output_type": "display_data",
          "data": {
            "text/plain": [
              "<IPython.core.display.HTML object>"
            ],
            "text/html": []
          },
          "metadata": {}
        },
        {
          "output_type": "display_data",
          "data": {
            "text/plain": [
              "<IPython.core.display.HTML object>"
            ],
            "text/html": [
              "<br>    <style><br>        .wandb-row {<br>            display: flex;<br>            flex-direction: row;<br>            flex-wrap: wrap;<br>            justify-content: flex-start;<br>            width: 100%;<br>        }<br>        .wandb-col {<br>            display: flex;<br>            flex-direction: column;<br>            flex-basis: 100%;<br>            flex: 1;<br>            padding: 10px;<br>        }<br>    </style><br><div class=\"wandb-row\"><div class=\"wandb-col\"><h3>Run history:</h3><br/><table class=\"wandb\"><tr><td>accuracy_train</td><td>▁▂▃▄▅▇▇█████████████████████████████████</td></tr><tr><td>accuracy_val</td><td>▁▄▇█████████████████████████████████████</td></tr><tr><td>epoch</td><td>▁▁▁▁▁▂▂▂▂▂▃▃▃▃▃▃▄▄▄▄▅▅▅▅▅▅▆▆▆▆▆▆▇▇▇▇████</td></tr><tr><td>train batch loss</td><td>▄▇▅█▃▃▄▄▃▃▂▃▃▁▁▂▁▂▅▂▂▂▄▄▃▂▂▃▄▂▁▃▃▁▂▂▃▃▃▃</td></tr><tr><td>train_loss</td><td>█▆▅▄▄▃▃▃▂▂▁▁▁▁▁▁▁▁▁▁▁▁▁▁▁▁▁▁▁▁▁▁▁▁▁▁▁▁▁▁</td></tr><tr><td>val batch loss</td><td>▅▃▁▆▅▄▄▂▅▃▂▃▂▄▂▃▃█▃▃▃▄▄▆▁▄▂█▂▂▃▅▄▂▅▂▃▂▂▄</td></tr><tr><td>val_loss</td><td>█▄▄▂▃▂▂▂▂▁▁▂▁▂▂▂▁▁▁▂▂▂▁▁▂▂▂▂▂▂▂▁▂▁▂▁▁▁▁▂</td></tr></table><br/></div><div class=\"wandb-col\"><h3>Run summary:</h3><br/><table class=\"wandb\"><tr><td>accuracy_train</td><td>0.61432</td></tr><tr><td>accuracy_val</td><td>0.51804</td></tr><tr><td>epoch</td><td>99</td></tr><tr><td>train batch loss</td><td>0.86729</td></tr><tr><td>train_loss</td><td>0.98945</td></tr><tr><td>val batch loss</td><td>1.93524</td></tr><tr><td>val_loss</td><td>1.79224</td></tr></table><br/></div></div>"
            ]
          },
          "metadata": {}
        },
        {
          "output_type": "display_data",
          "data": {
            "text/plain": [
              "<IPython.core.display.HTML object>"
            ],
            "text/html": [
              " View run <strong style=\"color:#cdcd00\">comfy-sweep-5</strong> at: <a href='https://wandb.ai/DSML4220/Lassner-mlp-Victoria/runs/y8wzmtns' target=\"_blank\">https://wandb.ai/DSML4220/Lassner-mlp-Victoria/runs/y8wzmtns</a><br> View project at: <a href='https://wandb.ai/DSML4220/Lassner-mlp-Victoria' target=\"_blank\">https://wandb.ai/DSML4220/Lassner-mlp-Victoria</a><br>Synced 5 W&B file(s), 0 media file(s), 0 artifact file(s) and 0 other file(s)"
            ]
          },
          "metadata": {}
        },
        {
          "output_type": "display_data",
          "data": {
            "text/plain": [
              "<IPython.core.display.HTML object>"
            ],
            "text/html": [
              "Find logs at: <code>./wandb/run-20250225_203059-y8wzmtns/logs</code>"
            ]
          },
          "metadata": {}
        },
        {
          "output_type": "stream",
          "name": "stderr",
          "text": [
            "\u001b[34m\u001b[1mwandb\u001b[0m: Agent Starting Run: 5euz9u59 with config:\n",
            "\u001b[34m\u001b[1mwandb\u001b[0m: \tbatch_size: 15\n",
            "\u001b[34m\u001b[1mwandb\u001b[0m: \tdropout: 0.3\n",
            "\u001b[34m\u001b[1mwandb\u001b[0m: \tepochs: 100\n",
            "\u001b[34m\u001b[1mwandb\u001b[0m: \thidden_layer_size: 250\n",
            "\u001b[34m\u001b[1mwandb\u001b[0m: \tlearning_rate: 0.0001\n",
            "\u001b[34m\u001b[1mwandb\u001b[0m: \toptimizer: adam\n"
          ]
        },
        {
          "output_type": "display_data",
          "data": {
            "text/plain": [
              "<IPython.core.display.HTML object>"
            ],
            "text/html": [
              "Tracking run with wandb version 0.19.6"
            ]
          },
          "metadata": {}
        },
        {
          "output_type": "display_data",
          "data": {
            "text/plain": [
              "<IPython.core.display.HTML object>"
            ],
            "text/html": [
              "Run data is saved locally in <code>/content/wandb/run-20250225_203306-5euz9u59</code>"
            ]
          },
          "metadata": {}
        },
        {
          "output_type": "display_data",
          "data": {
            "text/plain": [
              "<IPython.core.display.HTML object>"
            ],
            "text/html": [
              "Syncing run <strong><a href='https://wandb.ai/DSML4220/Lassner-mlp-Victoria/runs/5euz9u59' target=\"_blank\">azure-sweep-6</a></strong> to <a href='https://wandb.ai/DSML4220/Lassner-mlp-Victoria' target=\"_blank\">Weights & Biases</a> (<a href='https://wandb.me/developer-guide' target=\"_blank\">docs</a>)<br>Sweep page: <a href='https://wandb.ai/DSML4220/Lassner-mlp-Victoria/sweeps/cypxacle' target=\"_blank\">https://wandb.ai/DSML4220/Lassner-mlp-Victoria/sweeps/cypxacle</a>"
            ]
          },
          "metadata": {}
        },
        {
          "output_type": "display_data",
          "data": {
            "text/plain": [
              "<IPython.core.display.HTML object>"
            ],
            "text/html": [
              " View project at <a href='https://wandb.ai/DSML4220/Lassner-mlp-Victoria' target=\"_blank\">https://wandb.ai/DSML4220/Lassner-mlp-Victoria</a>"
            ]
          },
          "metadata": {}
        },
        {
          "output_type": "display_data",
          "data": {
            "text/plain": [
              "<IPython.core.display.HTML object>"
            ],
            "text/html": [
              " View sweep at <a href='https://wandb.ai/DSML4220/Lassner-mlp-Victoria/sweeps/cypxacle' target=\"_blank\">https://wandb.ai/DSML4220/Lassner-mlp-Victoria/sweeps/cypxacle</a>"
            ]
          },
          "metadata": {}
        },
        {
          "output_type": "display_data",
          "data": {
            "text/plain": [
              "<IPython.core.display.HTML object>"
            ],
            "text/html": [
              " View run at <a href='https://wandb.ai/DSML4220/Lassner-mlp-Victoria/runs/5euz9u59' target=\"_blank\">https://wandb.ai/DSML4220/Lassner-mlp-Victoria/runs/5euz9u59</a>"
            ]
          },
          "metadata": {}
        },
        {
          "output_type": "display_data",
          "data": {
            "text/plain": [
              "<IPython.core.display.HTML object>"
            ],
            "text/html": []
          },
          "metadata": {}
        },
        {
          "output_type": "display_data",
          "data": {
            "text/plain": [
              "<IPython.core.display.HTML object>"
            ],
            "text/html": [
              "<br>    <style><br>        .wandb-row {<br>            display: flex;<br>            flex-direction: row;<br>            flex-wrap: wrap;<br>            justify-content: flex-start;<br>            width: 100%;<br>        }<br>        .wandb-col {<br>            display: flex;<br>            flex-direction: column;<br>            flex-basis: 100%;<br>            flex: 1;<br>            padding: 10px;<br>        }<br>    </style><br><div class=\"wandb-row\"><div class=\"wandb-col\"><h3>Run history:</h3><br/><table class=\"wandb\"><tr><td>accuracy_train</td><td>▁▄▄▂▁▁▄▄▄▅▆▆▇▇▇█▇██▇▇▇▇▇▇▇▇▇▇▇▇▇▇▇▇▇▇▇▇▇</td></tr><tr><td>accuracy_val</td><td>▁▆██▇▇▇▇▇▇▇▇█▇▇▇▇▇▇▇█▇██▇▇█▇███▇██▇█▇███</td></tr><tr><td>epoch</td><td>▁▁▁▁▁▂▂▃▃▃▃▃▄▄▄▄▄▄▄▄▅▅▅▅▅▆▆▆▆▆▇▇▇▇▇▇▇▇██</td></tr><tr><td>train batch loss</td><td>█▇█▆▇▃▄▆▃▂▂▄▅▃▃▃▃▆▄▁▂▄▄▆▂▃▄▄▃▃▃▂▅▄▃▃▂▅▃▂</td></tr><tr><td>train_loss</td><td>█▆▆▅▄▃▃▂▂▂▂▁▁▁▁▁▁▁▁▁▁▁▁▁▁▁▁▁▁▁▁▁▁▁▁▁▁▁▁▁</td></tr><tr><td>val batch loss</td><td>▇▅▆▅▅▄▄▄▅▄▂▃▂▄▆▅▄▄█▂▃▄▃▃▁▃▁▄▄▃▄▂▅▂▄▂▃▂▃▂</td></tr><tr><td>val_loss</td><td>█▇▄▃▃▂▂▁▁▁▁▁▁▁▁▁▁▁▁▁▁▁▁▁▁▁▁▁▁▁▁▁▁▁▁▁▁▁▁▁</td></tr></table><br/></div><div class=\"wandb-col\"><h3>Run summary:</h3><br/><table class=\"wandb\"><tr><td>accuracy_train</td><td>0.47813</td></tr><tr><td>accuracy_val</td><td>0.45076</td></tr><tr><td>epoch</td><td>99</td></tr><tr><td>train batch loss</td><td>1.19336</td></tr><tr><td>train_loss</td><td>1.58228</td></tr><tr><td>val batch loss</td><td>1.51556</td></tr><tr><td>val_loss</td><td>1.8443</td></tr></table><br/></div></div>"
            ]
          },
          "metadata": {}
        },
        {
          "output_type": "display_data",
          "data": {
            "text/plain": [
              "<IPython.core.display.HTML object>"
            ],
            "text/html": [
              " View run <strong style=\"color:#cdcd00\">azure-sweep-6</strong> at: <a href='https://wandb.ai/DSML4220/Lassner-mlp-Victoria/runs/5euz9u59' target=\"_blank\">https://wandb.ai/DSML4220/Lassner-mlp-Victoria/runs/5euz9u59</a><br> View project at: <a href='https://wandb.ai/DSML4220/Lassner-mlp-Victoria' target=\"_blank\">https://wandb.ai/DSML4220/Lassner-mlp-Victoria</a><br>Synced 5 W&B file(s), 0 media file(s), 0 artifact file(s) and 0 other file(s)"
            ]
          },
          "metadata": {}
        },
        {
          "output_type": "display_data",
          "data": {
            "text/plain": [
              "<IPython.core.display.HTML object>"
            ],
            "text/html": [
              "Find logs at: <code>./wandb/run-20250225_203306-5euz9u59/logs</code>"
            ]
          },
          "metadata": {}
        },
        {
          "output_type": "stream",
          "name": "stderr",
          "text": [
            "\u001b[34m\u001b[1mwandb\u001b[0m: Agent Starting Run: r1e6sgqh with config:\n",
            "\u001b[34m\u001b[1mwandb\u001b[0m: \tbatch_size: 50\n",
            "\u001b[34m\u001b[1mwandb\u001b[0m: \tdropout: 0.1\n",
            "\u001b[34m\u001b[1mwandb\u001b[0m: \tepochs: 100\n",
            "\u001b[34m\u001b[1mwandb\u001b[0m: \thidden_layer_size: 50\n",
            "\u001b[34m\u001b[1mwandb\u001b[0m: \tlearning_rate: 0.1\n",
            "\u001b[34m\u001b[1mwandb\u001b[0m: \toptimizer: sgd\n"
          ]
        },
        {
          "output_type": "display_data",
          "data": {
            "text/plain": [
              "<IPython.core.display.HTML object>"
            ],
            "text/html": [
              "Tracking run with wandb version 0.19.6"
            ]
          },
          "metadata": {}
        },
        {
          "output_type": "display_data",
          "data": {
            "text/plain": [
              "<IPython.core.display.HTML object>"
            ],
            "text/html": [
              "Run data is saved locally in <code>/content/wandb/run-20250225_203528-r1e6sgqh</code>"
            ]
          },
          "metadata": {}
        },
        {
          "output_type": "display_data",
          "data": {
            "text/plain": [
              "<IPython.core.display.HTML object>"
            ],
            "text/html": [
              "Syncing run <strong><a href='https://wandb.ai/DSML4220/Lassner-mlp-Victoria/runs/r1e6sgqh' target=\"_blank\">super-sweep-7</a></strong> to <a href='https://wandb.ai/DSML4220/Lassner-mlp-Victoria' target=\"_blank\">Weights & Biases</a> (<a href='https://wandb.me/developer-guide' target=\"_blank\">docs</a>)<br>Sweep page: <a href='https://wandb.ai/DSML4220/Lassner-mlp-Victoria/sweeps/cypxacle' target=\"_blank\">https://wandb.ai/DSML4220/Lassner-mlp-Victoria/sweeps/cypxacle</a>"
            ]
          },
          "metadata": {}
        },
        {
          "output_type": "display_data",
          "data": {
            "text/plain": [
              "<IPython.core.display.HTML object>"
            ],
            "text/html": [
              " View project at <a href='https://wandb.ai/DSML4220/Lassner-mlp-Victoria' target=\"_blank\">https://wandb.ai/DSML4220/Lassner-mlp-Victoria</a>"
            ]
          },
          "metadata": {}
        },
        {
          "output_type": "display_data",
          "data": {
            "text/plain": [
              "<IPython.core.display.HTML object>"
            ],
            "text/html": [
              " View sweep at <a href='https://wandb.ai/DSML4220/Lassner-mlp-Victoria/sweeps/cypxacle' target=\"_blank\">https://wandb.ai/DSML4220/Lassner-mlp-Victoria/sweeps/cypxacle</a>"
            ]
          },
          "metadata": {}
        },
        {
          "output_type": "display_data",
          "data": {
            "text/plain": [
              "<IPython.core.display.HTML object>"
            ],
            "text/html": [
              " View run at <a href='https://wandb.ai/DSML4220/Lassner-mlp-Victoria/runs/r1e6sgqh' target=\"_blank\">https://wandb.ai/DSML4220/Lassner-mlp-Victoria/runs/r1e6sgqh</a>"
            ]
          },
          "metadata": {}
        },
        {
          "output_type": "display_data",
          "data": {
            "text/plain": [
              "<IPython.core.display.HTML object>"
            ],
            "text/html": []
          },
          "metadata": {}
        },
        {
          "output_type": "display_data",
          "data": {
            "text/plain": [
              "<IPython.core.display.HTML object>"
            ],
            "text/html": [
              "<br>    <style><br>        .wandb-row {<br>            display: flex;<br>            flex-direction: row;<br>            flex-wrap: wrap;<br>            justify-content: flex-start;<br>            width: 100%;<br>        }<br>        .wandb-col {<br>            display: flex;<br>            flex-direction: column;<br>            flex-basis: 100%;<br>            flex: 1;<br>            padding: 10px;<br>        }<br>    </style><br><div class=\"wandb-row\"><div class=\"wandb-col\"><h3>Run history:</h3><br/><table class=\"wandb\"><tr><td>accuracy_train</td><td>▁▂▃▄▅▇██████████████████████████████████</td></tr><tr><td>accuracy_val</td><td>▆▁▄▆▇▇▇█▇███████████████████████████████</td></tr><tr><td>epoch</td><td>▁▁▁▁▂▂▂▂▂▃▃▃▃▃▃▄▄▄▄▄▅▅▅▅▅▆▆▆▆▆▆▆▇▇▇▇▇███</td></tr><tr><td>train batch loss</td><td>█▅█▃▂▃▂▃▄▃▂▄▃▂▂▂▂▂▂▂▂▂▃▁▂▃▂▄▃▂▂▂▂▂▁▂▁▃▂▄</td></tr><tr><td>train_loss</td><td>█▆▅▅▄▂▂▁▁▁▁▁▁▁▁▁▁▁▁▁▁▁▁▁▁▁▁▁▁▁▁▁▁▁▁▁▁▁▁▁</td></tr><tr><td>val batch loss</td><td>▄▄▃▃▅▂▄▃▇▅▃▃▆▄▅▇▁▄▄▅▂▄▂▃▄▅▄▄▂▂▅▁▂▂█▂▅▃▆▁</td></tr><tr><td>val_loss</td><td>█▄▂▁▂▂▃▃▃▃▃▃▂▃▄▄▂▂▃▃▃▃▃▄▂▄▂▂▄▃▃▃▃▄▁▃▃▃▃▃</td></tr></table><br/></div><div class=\"wandb-col\"><h3>Run summary:</h3><br/><table class=\"wandb\"><tr><td>accuracy_train</td><td>0.56954</td></tr><tr><td>accuracy_val</td><td>0.49125</td></tr><tr><td>epoch</td><td>99</td></tr><tr><td>train batch loss</td><td>0.89907</td></tr><tr><td>train_loss</td><td>0.97795</td></tr><tr><td>val batch loss</td><td>1.32619</td></tr><tr><td>val_loss</td><td>1.96711</td></tr></table><br/></div></div>"
            ]
          },
          "metadata": {}
        },
        {
          "output_type": "display_data",
          "data": {
            "text/plain": [
              "<IPython.core.display.HTML object>"
            ],
            "text/html": [
              " View run <strong style=\"color:#cdcd00\">super-sweep-7</strong> at: <a href='https://wandb.ai/DSML4220/Lassner-mlp-Victoria/runs/r1e6sgqh' target=\"_blank\">https://wandb.ai/DSML4220/Lassner-mlp-Victoria/runs/r1e6sgqh</a><br> View project at: <a href='https://wandb.ai/DSML4220/Lassner-mlp-Victoria' target=\"_blank\">https://wandb.ai/DSML4220/Lassner-mlp-Victoria</a><br>Synced 5 W&B file(s), 0 media file(s), 0 artifact file(s) and 0 other file(s)"
            ]
          },
          "metadata": {}
        },
        {
          "output_type": "display_data",
          "data": {
            "text/plain": [
              "<IPython.core.display.HTML object>"
            ],
            "text/html": [
              "Find logs at: <code>./wandb/run-20250225_203528-r1e6sgqh/logs</code>"
            ]
          },
          "metadata": {}
        },
        {
          "output_type": "stream",
          "name": "stderr",
          "text": [
            "\u001b[34m\u001b[1mwandb\u001b[0m: Agent Starting Run: 91e8nron with config:\n",
            "\u001b[34m\u001b[1mwandb\u001b[0m: \tbatch_size: 50\n",
            "\u001b[34m\u001b[1mwandb\u001b[0m: \tdropout: 0.5\n",
            "\u001b[34m\u001b[1mwandb\u001b[0m: \tepochs: 100\n",
            "\u001b[34m\u001b[1mwandb\u001b[0m: \thidden_layer_size: 200\n",
            "\u001b[34m\u001b[1mwandb\u001b[0m: \tlearning_rate: 0.001\n",
            "\u001b[34m\u001b[1mwandb\u001b[0m: \toptimizer: sgd\n"
          ]
        },
        {
          "output_type": "display_data",
          "data": {
            "text/plain": [
              "<IPython.core.display.HTML object>"
            ],
            "text/html": [
              "Tracking run with wandb version 0.19.6"
            ]
          },
          "metadata": {}
        },
        {
          "output_type": "display_data",
          "data": {
            "text/plain": [
              "<IPython.core.display.HTML object>"
            ],
            "text/html": [
              "Run data is saved locally in <code>/content/wandb/run-20250225_203649-91e8nron</code>"
            ]
          },
          "metadata": {}
        },
        {
          "output_type": "display_data",
          "data": {
            "text/plain": [
              "<IPython.core.display.HTML object>"
            ],
            "text/html": [
              "Syncing run <strong><a href='https://wandb.ai/DSML4220/Lassner-mlp-Victoria/runs/91e8nron' target=\"_blank\">curious-sweep-8</a></strong> to <a href='https://wandb.ai/DSML4220/Lassner-mlp-Victoria' target=\"_blank\">Weights & Biases</a> (<a href='https://wandb.me/developer-guide' target=\"_blank\">docs</a>)<br>Sweep page: <a href='https://wandb.ai/DSML4220/Lassner-mlp-Victoria/sweeps/cypxacle' target=\"_blank\">https://wandb.ai/DSML4220/Lassner-mlp-Victoria/sweeps/cypxacle</a>"
            ]
          },
          "metadata": {}
        },
        {
          "output_type": "display_data",
          "data": {
            "text/plain": [
              "<IPython.core.display.HTML object>"
            ],
            "text/html": [
              " View project at <a href='https://wandb.ai/DSML4220/Lassner-mlp-Victoria' target=\"_blank\">https://wandb.ai/DSML4220/Lassner-mlp-Victoria</a>"
            ]
          },
          "metadata": {}
        },
        {
          "output_type": "display_data",
          "data": {
            "text/plain": [
              "<IPython.core.display.HTML object>"
            ],
            "text/html": [
              " View sweep at <a href='https://wandb.ai/DSML4220/Lassner-mlp-Victoria/sweeps/cypxacle' target=\"_blank\">https://wandb.ai/DSML4220/Lassner-mlp-Victoria/sweeps/cypxacle</a>"
            ]
          },
          "metadata": {}
        },
        {
          "output_type": "display_data",
          "data": {
            "text/plain": [
              "<IPython.core.display.HTML object>"
            ],
            "text/html": [
              " View run at <a href='https://wandb.ai/DSML4220/Lassner-mlp-Victoria/runs/91e8nron' target=\"_blank\">https://wandb.ai/DSML4220/Lassner-mlp-Victoria/runs/91e8nron</a>"
            ]
          },
          "metadata": {}
        },
        {
          "output_type": "display_data",
          "data": {
            "text/plain": [
              "<IPython.core.display.HTML object>"
            ],
            "text/html": []
          },
          "metadata": {}
        },
        {
          "output_type": "display_data",
          "data": {
            "text/plain": [
              "<IPython.core.display.HTML object>"
            ],
            "text/html": [
              "<br>    <style><br>        .wandb-row {<br>            display: flex;<br>            flex-direction: row;<br>            flex-wrap: wrap;<br>            justify-content: flex-start;<br>            width: 100%;<br>        }<br>        .wandb-col {<br>            display: flex;<br>            flex-direction: column;<br>            flex-basis: 100%;<br>            flex: 1;<br>            padding: 10px;<br>        }<br>    </style><br><div class=\"wandb-row\"><div class=\"wandb-col\"><h3>Run history:</h3><br/><table class=\"wandb\"><tr><td>accuracy_train</td><td>▁▃▄▆▆▆▆▆▇▇▇▇▇▇██████████████████████████</td></tr><tr><td>accuracy_val</td><td>▁▄▄▅▅▆▆▆▆▆▇▇▇▇▇▇▇▇▇▇████████████████████</td></tr><tr><td>epoch</td><td>▁▁▁▁▂▂▂▂▂▂▂▃▃▃▃▃▄▄▄▄▄▅▅▅▅▅▅▆▆▆▆▆▆▇▇▇▇▇▇█</td></tr><tr><td>train batch loss</td><td>█▇▇▆▆▅▆▅▅▅▄▆▄▅▆▂▄▃▃▂▄▁▄▄▅▂▄▁▂▃▂▆▃▃▅▁▃▃▃▃</td></tr><tr><td>train_loss</td><td>███▇▇▆▆▆▅▅▃▃▃▃▂▂▂▂▁▁▁▁▁▁▁▁▁▁▁▁▁▁▁▁▁▁▁▁▁▁</td></tr><tr><td>val batch loss</td><td>██▇▆▆▅▇▆▆▆▇▇▄▄▄▅▄▆▁▄▁▄▄▄▄▁▂▃▃▄▂▄▃▄▂▃▅▅▄▂</td></tr><tr><td>val_loss</td><td>██▇▇▇▆▆▆▅▅▄▄▃▃▂▂▂▂▁▁▁▁▁▁▁▁▁▁▁▁▁▁▁▁▁▁▁▁▁▁</td></tr></table><br/></div><div class=\"wandb-col\"><h3>Run summary:</h3><br/><table class=\"wandb\"><tr><td>accuracy_train</td><td>0.38196</td></tr><tr><td>accuracy_val</td><td>0.34563</td></tr><tr><td>epoch</td><td>99</td></tr><tr><td>train batch loss</td><td>1.42118</td></tr><tr><td>train_loss</td><td>1.84414</td></tr><tr><td>val batch loss</td><td>2.09274</td></tr><tr><td>val_loss</td><td>1.9712</td></tr></table><br/></div></div>"
            ]
          },
          "metadata": {}
        },
        {
          "output_type": "display_data",
          "data": {
            "text/plain": [
              "<IPython.core.display.HTML object>"
            ],
            "text/html": [
              " View run <strong style=\"color:#cdcd00\">curious-sweep-8</strong> at: <a href='https://wandb.ai/DSML4220/Lassner-mlp-Victoria/runs/91e8nron' target=\"_blank\">https://wandb.ai/DSML4220/Lassner-mlp-Victoria/runs/91e8nron</a><br> View project at: <a href='https://wandb.ai/DSML4220/Lassner-mlp-Victoria' target=\"_blank\">https://wandb.ai/DSML4220/Lassner-mlp-Victoria</a><br>Synced 5 W&B file(s), 0 media file(s), 0 artifact file(s) and 0 other file(s)"
            ]
          },
          "metadata": {}
        },
        {
          "output_type": "display_data",
          "data": {
            "text/plain": [
              "<IPython.core.display.HTML object>"
            ],
            "text/html": [
              "Find logs at: <code>./wandb/run-20250225_203649-91e8nron/logs</code>"
            ]
          },
          "metadata": {}
        },
        {
          "output_type": "stream",
          "name": "stderr",
          "text": [
            "\u001b[34m\u001b[1mwandb\u001b[0m: Agent Starting Run: p8q58p9h with config:\n",
            "\u001b[34m\u001b[1mwandb\u001b[0m: \tbatch_size: 25\n",
            "\u001b[34m\u001b[1mwandb\u001b[0m: \tdropout: 0.5\n",
            "\u001b[34m\u001b[1mwandb\u001b[0m: \tepochs: 100\n",
            "\u001b[34m\u001b[1mwandb\u001b[0m: \thidden_layer_size: 100\n",
            "\u001b[34m\u001b[1mwandb\u001b[0m: \tlearning_rate: 0.1\n",
            "\u001b[34m\u001b[1mwandb\u001b[0m: \toptimizer: rmsprop\n"
          ]
        },
        {
          "output_type": "display_data",
          "data": {
            "text/plain": [
              "<IPython.core.display.HTML object>"
            ],
            "text/html": [
              "Tracking run with wandb version 0.19.6"
            ]
          },
          "metadata": {}
        },
        {
          "output_type": "display_data",
          "data": {
            "text/plain": [
              "<IPython.core.display.HTML object>"
            ],
            "text/html": [
              "Run data is saved locally in <code>/content/wandb/run-20250225_203816-p8q58p9h</code>"
            ]
          },
          "metadata": {}
        },
        {
          "output_type": "display_data",
          "data": {
            "text/plain": [
              "<IPython.core.display.HTML object>"
            ],
            "text/html": [
              "Syncing run <strong><a href='https://wandb.ai/DSML4220/Lassner-mlp-Victoria/runs/p8q58p9h' target=\"_blank\">stellar-sweep-9</a></strong> to <a href='https://wandb.ai/DSML4220/Lassner-mlp-Victoria' target=\"_blank\">Weights & Biases</a> (<a href='https://wandb.me/developer-guide' target=\"_blank\">docs</a>)<br>Sweep page: <a href='https://wandb.ai/DSML4220/Lassner-mlp-Victoria/sweeps/cypxacle' target=\"_blank\">https://wandb.ai/DSML4220/Lassner-mlp-Victoria/sweeps/cypxacle</a>"
            ]
          },
          "metadata": {}
        },
        {
          "output_type": "display_data",
          "data": {
            "text/plain": [
              "<IPython.core.display.HTML object>"
            ],
            "text/html": [
              " View project at <a href='https://wandb.ai/DSML4220/Lassner-mlp-Victoria' target=\"_blank\">https://wandb.ai/DSML4220/Lassner-mlp-Victoria</a>"
            ]
          },
          "metadata": {}
        },
        {
          "output_type": "display_data",
          "data": {
            "text/plain": [
              "<IPython.core.display.HTML object>"
            ],
            "text/html": [
              " View sweep at <a href='https://wandb.ai/DSML4220/Lassner-mlp-Victoria/sweeps/cypxacle' target=\"_blank\">https://wandb.ai/DSML4220/Lassner-mlp-Victoria/sweeps/cypxacle</a>"
            ]
          },
          "metadata": {}
        },
        {
          "output_type": "display_data",
          "data": {
            "text/plain": [
              "<IPython.core.display.HTML object>"
            ],
            "text/html": [
              " View run at <a href='https://wandb.ai/DSML4220/Lassner-mlp-Victoria/runs/p8q58p9h' target=\"_blank\">https://wandb.ai/DSML4220/Lassner-mlp-Victoria/runs/p8q58p9h</a>"
            ]
          },
          "metadata": {}
        },
        {
          "output_type": "display_data",
          "data": {
            "text/plain": [
              "<IPython.core.display.HTML object>"
            ],
            "text/html": []
          },
          "metadata": {}
        },
        {
          "output_type": "display_data",
          "data": {
            "text/plain": [
              "<IPython.core.display.HTML object>"
            ],
            "text/html": [
              "<br>    <style><br>        .wandb-row {<br>            display: flex;<br>            flex-direction: row;<br>            flex-wrap: wrap;<br>            justify-content: flex-start;<br>            width: 100%;<br>        }<br>        .wandb-col {<br>            display: flex;<br>            flex-direction: column;<br>            flex-basis: 100%;<br>            flex: 1;<br>            padding: 10px;<br>        }<br>    </style><br><div class=\"wandb-row\"><div class=\"wandb-col\"><h3>Run history:</h3><br/><table class=\"wandb\"><tr><td>accuracy_train</td><td>▁▂▄▇████████████████████████████████████</td></tr><tr><td>accuracy_val</td><td>▁▃▂▃█▅▅▆▆▆▆▆▆▆▆▆▆▆▆▆▆▆▆▆▆▆▆▆▆▆▆▆▆▆▆▆▆▆▆▆</td></tr><tr><td>epoch</td><td>▁▁▁▁▁▂▂▂▂▂▃▃▃▃▃▄▄▄▄▄▅▅▅▅▅▅▆▆▆▆▆▆▆▇▇▇▇▇██</td></tr><tr><td>train batch loss</td><td>█▃▃▂▂▂▂▂▁▃▂▂▂▂▃▂▄▂▂▂▂▂▂▂▂▂▂▃▂▃▂▁▃▂▂▂▃▂▁▁</td></tr><tr><td>train_loss</td><td>█▃▃▃▂▂▂▂▁▁▁▁▁▁▁▁▁▁▁▁▁▁▁▁▁▁▁▁▁▁▁▁▁▁▁▁▁▁▁▁</td></tr><tr><td>val batch loss</td><td>▂▁▁▁▁▁▂▅▁▄▂▂▂▁▂▆█▁▂▁▂▅▁▂▁▄▂▁▂▂▁▁▂▁█▂▄▁▂▁</td></tr><tr><td>val_loss</td><td>▁▆▁▂▂▅▄▄▅▆▇▆▄█▅▆▅▆▆▇▅▅▆▆▆▆▅▆▇▆▆▆▅▇▆▇▇▆▆▇</td></tr></table><br/></div><div class=\"wandb-col\"><h3>Run summary:</h3><br/><table class=\"wandb\"><tr><td>accuracy_train</td><td>0.33746</td></tr><tr><td>accuracy_val</td><td>0.30646</td></tr><tr><td>epoch</td><td>99</td></tr><tr><td>train batch loss</td><td>2.93067</td></tr><tr><td>train_loss</td><td>2.06411</td></tr><tr><td>val batch loss</td><td>2.68417</td></tr><tr><td>val_loss</td><td>3.37304</td></tr></table><br/></div></div>"
            ]
          },
          "metadata": {}
        },
        {
          "output_type": "display_data",
          "data": {
            "text/plain": [
              "<IPython.core.display.HTML object>"
            ],
            "text/html": [
              " View run <strong style=\"color:#cdcd00\">stellar-sweep-9</strong> at: <a href='https://wandb.ai/DSML4220/Lassner-mlp-Victoria/runs/p8q58p9h' target=\"_blank\">https://wandb.ai/DSML4220/Lassner-mlp-Victoria/runs/p8q58p9h</a><br> View project at: <a href='https://wandb.ai/DSML4220/Lassner-mlp-Victoria' target=\"_blank\">https://wandb.ai/DSML4220/Lassner-mlp-Victoria</a><br>Synced 5 W&B file(s), 0 media file(s), 0 artifact file(s) and 0 other file(s)"
            ]
          },
          "metadata": {}
        },
        {
          "output_type": "display_data",
          "data": {
            "text/plain": [
              "<IPython.core.display.HTML object>"
            ],
            "text/html": [
              "Find logs at: <code>./wandb/run-20250225_203816-p8q58p9h/logs</code>"
            ]
          },
          "metadata": {}
        },
        {
          "output_type": "stream",
          "name": "stderr",
          "text": [
            "\u001b[34m\u001b[1mwandb\u001b[0m: Agent Starting Run: p4v8k731 with config:\n",
            "\u001b[34m\u001b[1mwandb\u001b[0m: \tbatch_size: 8\n",
            "\u001b[34m\u001b[1mwandb\u001b[0m: \tdropout: 0.6\n",
            "\u001b[34m\u001b[1mwandb\u001b[0m: \tepochs: 100\n",
            "\u001b[34m\u001b[1mwandb\u001b[0m: \thidden_layer_size: 200\n",
            "\u001b[34m\u001b[1mwandb\u001b[0m: \tlearning_rate: 0.1\n",
            "\u001b[34m\u001b[1mwandb\u001b[0m: \toptimizer: rmsprop\n"
          ]
        },
        {
          "output_type": "display_data",
          "data": {
            "text/plain": [
              "<IPython.core.display.HTML object>"
            ],
            "text/html": [
              "Tracking run with wandb version 0.19.6"
            ]
          },
          "metadata": {}
        },
        {
          "output_type": "display_data",
          "data": {
            "text/plain": [
              "<IPython.core.display.HTML object>"
            ],
            "text/html": [
              "Run data is saved locally in <code>/content/wandb/run-20250225_204007-p4v8k731</code>"
            ]
          },
          "metadata": {}
        },
        {
          "output_type": "display_data",
          "data": {
            "text/plain": [
              "<IPython.core.display.HTML object>"
            ],
            "text/html": [
              "Syncing run <strong><a href='https://wandb.ai/DSML4220/Lassner-mlp-Victoria/runs/p4v8k731' target=\"_blank\">twilight-sweep-10</a></strong> to <a href='https://wandb.ai/DSML4220/Lassner-mlp-Victoria' target=\"_blank\">Weights & Biases</a> (<a href='https://wandb.me/developer-guide' target=\"_blank\">docs</a>)<br>Sweep page: <a href='https://wandb.ai/DSML4220/Lassner-mlp-Victoria/sweeps/cypxacle' target=\"_blank\">https://wandb.ai/DSML4220/Lassner-mlp-Victoria/sweeps/cypxacle</a>"
            ]
          },
          "metadata": {}
        },
        {
          "output_type": "display_data",
          "data": {
            "text/plain": [
              "<IPython.core.display.HTML object>"
            ],
            "text/html": [
              " View project at <a href='https://wandb.ai/DSML4220/Lassner-mlp-Victoria' target=\"_blank\">https://wandb.ai/DSML4220/Lassner-mlp-Victoria</a>"
            ]
          },
          "metadata": {}
        },
        {
          "output_type": "display_data",
          "data": {
            "text/plain": [
              "<IPython.core.display.HTML object>"
            ],
            "text/html": [
              " View sweep at <a href='https://wandb.ai/DSML4220/Lassner-mlp-Victoria/sweeps/cypxacle' target=\"_blank\">https://wandb.ai/DSML4220/Lassner-mlp-Victoria/sweeps/cypxacle</a>"
            ]
          },
          "metadata": {}
        },
        {
          "output_type": "display_data",
          "data": {
            "text/plain": [
              "<IPython.core.display.HTML object>"
            ],
            "text/html": [
              " View run at <a href='https://wandb.ai/DSML4220/Lassner-mlp-Victoria/runs/p4v8k731' target=\"_blank\">https://wandb.ai/DSML4220/Lassner-mlp-Victoria/runs/p4v8k731</a>"
            ]
          },
          "metadata": {}
        },
        {
          "output_type": "display_data",
          "data": {
            "text/plain": [
              "<IPython.core.display.HTML object>"
            ],
            "text/html": []
          },
          "metadata": {}
        },
        {
          "output_type": "display_data",
          "data": {
            "text/plain": [
              "<IPython.core.display.HTML object>"
            ],
            "text/html": [
              "<br>    <style><br>        .wandb-row {<br>            display: flex;<br>            flex-direction: row;<br>            flex-wrap: wrap;<br>            justify-content: flex-start;<br>            width: 100%;<br>        }<br>        .wandb-col {<br>            display: flex;<br>            flex-direction: column;<br>            flex-basis: 100%;<br>            flex: 1;<br>            padding: 10px;<br>        }<br>    </style><br><div class=\"wandb-row\"><div class=\"wandb-col\"><h3>Run history:</h3><br/><table class=\"wandb\"><tr><td>accuracy_train</td><td>▁▂▃▅▆█▅▆▄▄▄▄▄▄▄▄▄▄▄▄▄▄▄▄▄▄▄▄▄▄▄▄▄▄▄▄▄▄▄▄</td></tr><tr><td>accuracy_val</td><td>▂▁▁▆▃█▄█▄▄▄▄▄▄▄▄▄▄▄▄▄▄▄▄▄▄▄▄▄▄▄▄▄▄▄▄▄▄▄▄</td></tr><tr><td>epoch</td><td>▁▁▁▁▂▂▂▂▂▃▃▃▃▄▄▄▄▄▅▅▅▅▅▅▆▆▆▆▆▇▇▇▇▇▇▇▇███</td></tr><tr><td>train batch loss</td><td>▂▂▂▂▃▂▂▁█▂▂▂▂▂▂▂▂▂▂▂▁▂▂▂▂▂▁▂▂▂▁▂▂▂▂▂▂▂▂▂</td></tr><tr><td>train_loss</td><td>█▃▃▃▃▂▁▁▁▁▁▁▁▁▁▁▁▁▁▁▁▁▁▁▁▁▁▁▁▁▁▁▁▁▁▁▁▁▁▁</td></tr><tr><td>val batch loss</td><td>▁▁▁▁▁▁▁▁▁▁▁▂▁▁▁▁▁▁▁█▁▁▁▁▁▁▁▁▁▁▁▁▃▁▁▂▁▁▁▁</td></tr><tr><td>val_loss</td><td>▂▁▁▃▁▃▃▅▅▅▆▆▆▆▆▆▇▅▆▆▇▇▇█▅▆▅▇▆▆▆▅▇▇▆█▅▇▇▆</td></tr></table><br/></div><div class=\"wandb-col\"><h3>Run summary:</h3><br/><table class=\"wandb\"><tr><td>accuracy_train</td><td>0.26068</td></tr><tr><td>accuracy_val</td><td>0.25</td></tr><tr><td>epoch</td><td>99</td></tr><tr><td>train batch loss</td><td>2.30547</td></tr><tr><td>train_loss</td><td>2.4638</td></tr><tr><td>val batch loss</td><td>2.2586</td></tr><tr><td>val_loss</td><td>3.68087</td></tr></table><br/></div></div>"
            ]
          },
          "metadata": {}
        },
        {
          "output_type": "display_data",
          "data": {
            "text/plain": [
              "<IPython.core.display.HTML object>"
            ],
            "text/html": [
              " View run <strong style=\"color:#cdcd00\">twilight-sweep-10</strong> at: <a href='https://wandb.ai/DSML4220/Lassner-mlp-Victoria/runs/p4v8k731' target=\"_blank\">https://wandb.ai/DSML4220/Lassner-mlp-Victoria/runs/p4v8k731</a><br> View project at: <a href='https://wandb.ai/DSML4220/Lassner-mlp-Victoria' target=\"_blank\">https://wandb.ai/DSML4220/Lassner-mlp-Victoria</a><br>Synced 5 W&B file(s), 0 media file(s), 0 artifact file(s) and 0 other file(s)"
            ]
          },
          "metadata": {}
        },
        {
          "output_type": "display_data",
          "data": {
            "text/plain": [
              "<IPython.core.display.HTML object>"
            ],
            "text/html": [
              "Find logs at: <code>./wandb/run-20250225_204007-p4v8k731/logs</code>"
            ]
          },
          "metadata": {}
        }
      ],
      "source": [
        "sweep_id = wandb.sweep(sweep_config, entity=\"DSML4220\", project=\"Lassner-mlp-Victoria\")\n",
        "\n",
        "wandb.agent(sweep_id, train, count=10)"
      ]
    }
  ],
  "metadata": {
    "kernelspec": {
      "display_name": "py311",
      "language": "python",
      "name": "python3"
    },
    "language_info": {
      "codemirror_mode": {
        "name": "ipython",
        "version": 3
      },
      "file_extension": ".py",
      "mimetype": "text/x-python",
      "name": "python",
      "nbconvert_exporter": "python",
      "pygments_lexer": "ipython3",
      "version": "3.11.11"
    },
    "toc": {
      "colors": {
        "hover_highlight": "#DAA520",
        "running_highlight": "#FF0000",
        "selected_highlight": "#FFD700"
      },
      "moveMenuLeft": true,
      "nav_menu": {
        "height": "138px",
        "width": "252px"
      },
      "navigate_menu": true,
      "number_sections": true,
      "sideBar": true,
      "threshold": "5",
      "toc_cell": false,
      "toc_section_display": "block",
      "toc_window_display": false
    },
    "colab": {
      "provenance": [],
      "include_colab_link": true
    }
  },
  "nbformat": 4,
  "nbformat_minor": 0
}